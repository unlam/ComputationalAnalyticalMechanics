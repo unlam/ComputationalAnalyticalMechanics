{
  "cells": [
    {
      "cell_type": "markdown",
      "metadata": {
        "id": "e-JjRy7GBPcP"
      },
      "source": [
        "# Euler-Lagrange | Pendulums"
      ]
    },
    {
      "cell_type": "markdown",
      "metadata": {},
      "source": [
        "[![DIIT - UNLaM](data:image/png;base64,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)](https://ingenieria.unlam.edu.ar/)    \n",
        "[![by-nc-sa_80x15.png](data:image/png;base64,iVBORw0KGgoAAAANSUhEUgAAAFAAAAAPCAMAAABEF7i9AAAABGdBTUEAANbY1E9YMgAAAJZQTFRF////7u7u3d3dys7KzMzMyMzIxsrGxcbFur+6u7u7s7iyq7GqqqqqmZmZlJmTj5CPiIiIh4eHhoaGgICAfYJ9d3d3cnZxZ2tnZmZmW15bVVVVS0xLREREQ0NDQkJCQUJBOz07OTs5MzMzMTMxLjAuJygnJCUjIiIiISEhICAgGRkZERERDxAPDg4ODQ4NDQ0NDQ0MAAAADbeuvgAAAOhJREFUeNqtk+tyAiEMhQ+6XtroutZiveBdu+p2tXn/l3OQy8roL5fMMENC+HIIAI5sYEQ1DSRtP5zZkCpToubf2/oMMC0zX0QdiLqjmsD1sVKd8JSoNa8HvGRIclZCcZ5A7Yiag/s6oJPMYD8FKgIC3wG/+QP5DFIWot+DvBB1OxYAk+W2W88HqqwAOOZE6FuZbfWZZUn02fb1rTAHc3izZgQCrxWqSSFkH/IaKuSHEzEChfyk2PbwmqFX8EQo3jaw2Ac9DIFhD12Tn4CbU+RbTv+HHrj8jfAOacxflrc61/0psf9yZLsBr5WUrhUa3hEAAAAASUVORK5CYII=)](https://creativecommons.org/licenses/by-sa/4.0/deed.es_ES) \n",
        "2025 [Víctor A. Bettachini](mailto:vbettachini@unlam.edu.ar)  \n",
        "\n",
        "---"
      ]
    },
    {
      "cell_type": "markdown",
      "metadata": {},
      "source": [
        "## Euler-Lagrange equation"
      ]
    },
    {
      "cell_type": "markdown",
      "metadata": {},
      "source": [
        "> Referencia\n",
        "> - Apunte Lanczos $\\S6$\n",
        "\n",
        "The Euler-Lagrange for a generalized coordinate $q$ is\n",
        "$$\n",
        "\\begin{aligned}\n",
        "\\frac{\\mathrm{d}}{\\mathrm{d} t} \\frac{\\partial \\mathcal{L} }{\\partial \\dot{q} }\n",
        "& -\\frac{\\partial \\mathcal{L} }{\\partial q}\n",
        " = 0\n",
        "\\end{aligned},\n",
        "$$\n",
        "where $\\mathcal{L}$ is the system's Lagrangian.\n",
        "\n",
        "**(Es imperativo leer la referencia para entender la deducción de esta ecuación)**"
      ]
    },
    {
      "cell_type": "markdown",
      "metadata": {},
      "source": [
        "### Lagrangian\n",
        "> Referencia\n",
        "> - Apunte Lanczos $\\S5$\n",
        "\n",
        "The Lagrangian (or Lagrangian function) of a system is determined by the system's kinetic energy $T$ and potential energy $V$ expressed as functions of generalized coordinates and velocities, and eventually, of time.\n",
        "$$\n",
        "\\mathcal{L} (q_i, \\dot{q}_i, t)= T(q_i, \\dot{q}_i, t) - V(q_i, \\dot{q}_i, t).\n",
        "$$"
      ]
    },
    {
      "cell_type": "markdown",
      "metadata": {},
      "source": [
        "## Euler-Lagrange equation for a free particle"
      ]
    },
    {
      "cell_type": "markdown",
      "metadata": {},
      "source": [
        "For a free particle that moves on $\\hat{x}$, the lagrangian es the kinetic energy\n",
        "$$\n",
        "\\mathcal{L} = T = \\frac{m}{2} \\dot{x}^2 \\,.\n",
        "$$\n",
        "If we differentiate respect to velocity $\\dot{x}$, we find the linear momentum\n",
        "$$\n",
        "p_x = \\frac{\\partial}{\\partial \\dot{x}} \\mathcal{L} = \\frac{\\partial}{\\partial \\dot{x}} T = m \\dot{x}\\, .\n",
        "$$\n",
        "\n",
        "This applies to every generalized coordinate, thus the generalized momentums are \n",
        "$$\n",
        "p_i = \\frac{\\partial}{\\partial \\dot{q_i}} \\mathcal{L}\\,. \n",
        "$$\n",
        "We name this as `dtdp`, the part of the Euler-Lagrange equation where\n",
        "\n",
        "$$\\frac{\\mathrm{d}}{\\mathrm{d}t} \\frac{\\partial}{\\partial \\dot{q_i}} \\mathcal{L} = \\frac{\\mathrm{d}}{\\mathrm{d}t} p_i$$\n",
        "we differentiate the generalized momentum $p_i$ with respect to time."
      ]
    },
    {
      "cell_type": "markdown",
      "metadata": {},
      "source": [
        "In a similar manner, differentiating with respect to the generalized coordinate\n",
        "\n",
        "$$\n",
        "\\frac{\\partial}{\\partial q_i} \\mathcal{L}\n",
        "$$\n",
        "will be called `dq`."
      ]
    },
    {
      "cell_type": "markdown",
      "metadata": {},
      "source": [
        "For this particle, the Euler-Lagrange equation is\n",
        "$$\n",
        "\\begin{aligned}\n",
        "\\frac{\\mathrm{d}}{\\mathrm{d} t} \\frac{\\partial \\mathcal{L} }{\\partial \\dot{x} }\n",
        " -\\frac{\\partial \\mathcal{L} }{\\partial x}\n",
        "& = 0\\\\\n",
        " m \\ddot{x} &= 0\\,.\n",
        "\\end{aligned}\n",
        "$$\n",
        "So the particle's acceleration is zero, which is expected for a free particle."
      ]
    },
    {
      "cell_type": "markdown",
      "metadata": {},
      "source": [
        "## Ideal pendulum\n",
        "\n",
        "![../03EulerLagrange/figures/pendulumHorizontal.png](data:image/png;base64,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)"
      ]
    },
    {
      "cell_type": "markdown",
      "metadata": {
        "id": "YA8HN082BPcU"
      },
      "source": [
        "The best way to work out a simple pendulum is by using cylindrical coordinates. \n",
        "There is a single component with non null velocity in this representation for an ideal and rigid pendulum: the one on $\\hat{\\varphi}$, i.e., $\\dot{\\vec{r}} \\cdot \\hat{\\varphi}= \\ell \\dot{\\varphi}$."
      ]
    },
    {
      "cell_type": "code",
      "execution_count": 1,
      "metadata": {
        "id": "1Dr9YL4kBPcV",
        "tags": []
      },
      "outputs": [],
      "source": [
        "import sympy as sm # import functions for symbolic manipulations\n",
        "from sympy.physics import mechanics as me # from sympy we use functions for mechanics\n",
        "me.init_vprinting() # dot notation for velocity and acceleration"
      ]
    },
    {
      "cell_type": "code",
      "execution_count": 2,
      "metadata": {
        "id": "Yvq0Tt3ABPcX",
        "tags": []
      },
      "outputs": [],
      "source": [
        "# Parameters for the system\n",
        "m, g, l = sm.symbols('m, g, \\ell', positive=True)\n",
        "\n",
        "e = me.ReferenceFrame('e') # Cartesian frame of reference\n",
        "phi = me.dynamicsymbols(r'\\varphi')"
      ]
    },
    {
      "cell_type": "code",
      "execution_count": 3,
      "metadata": {
        "colab": {
          "base_uri": "https://localhost:8080/",
          "height": 38
        },
        "id": "YEhUcbRaBPcY",
        "outputId": "8075b9a7-5b90-4272-9a6d-8116b2f77af1",
        "tags": []
      },
      "outputs": [
        {
          "data": {
            "image/png": "[encoded data removed]",
            "text/latex": [
              "$\\displaystyle \\ell \\sin{\\left(\\varphi \\right)}\\mathbf{\\hat{e}_x} -  \\ell \\cos{\\left(\\varphi \\right)}\\mathbf{\\hat{e}_y}$"
            ],
            "text/plain": [
              "\\ell⋅sin(\\varphi) e_x + -\\ell⋅cos(\\varphi) e_y"
            ]
          },
          "execution_count": 3,
          "metadata": {},
          "output_type": "execute_result"
        }
      ],
      "source": [
        "particle_m = m\n",
        "particle_r = l*(sm.sin(phi)* e.x - sm.cos(phi)* e.y )  # versor y is directed upward\n",
        "particle_r"
      ]
    },
    {
      "cell_type": "code",
      "execution_count": 10,
      "metadata": {},
      "outputs": [],
      "source": [
        "def energyKineticTranslation(mass, position, frameOfReference):\n",
        "    \"\"\"\n",
        "    Given a mass and the position of a point particle in a frame of reference, it returns its kinetic energy.\n",
        "    \n",
        "    Parameters\n",
        "    ----------\n",
        "    mass: (sympy.core.symbol.Symbol)\n",
        "        of one particle\n",
        "    position: (sympy.physics.vector.vector.Vector)\n",
        "        of the particle's center of mass\n",
        "    frameOfReference: (sympy.physics.vector.frame.ReferenceFrame)\n",
        "        in which the position is expressed\n",
        "    \n",
        "    Returns\n",
        "    -------\n",
        "    Sympy Equality (sympy.core.relational.Equality)\n",
        "        The kinetic energy of the system is made explicit on the right-hand side, as a function of the generalized coordinates and velocities, and time.\n",
        "        Kinetic Energy, T = (m/2) \\dot{\\vec{r}} \\cdot\\dot{\\vec{r}}\n",
        "    \"\"\"\n",
        "    velocity = position.dt(frameOfReference)\n",
        "    oneHalf = sm.Rational(1,2) # Rational: a quotient of integers\n",
        "    T_translational = sm.Eq(\n",
        "        sm.Symbol('T_\\mathrm{translational}'),\n",
        "        oneHalf* mass* velocity.dot(velocity)\n",
        "        ).simplify()\n",
        "    return T_translational"
      ]
    },
    {
      "cell_type": "code",
      "execution_count": 11,
      "metadata": {
        "colab": {
          "base_uri": "https://localhost:8080/",
          "height": 54
        },
        "id": "l8NyhqzIBPcb",
        "outputId": "5612fb0e-5225-4108-8ca9-dcb738003522",
        "tags": []
      },
      "outputs": [
        {
          "data": {
            "image/png": "[encoded data removed]",
            "text/latex": [
              "$\\displaystyle T_\\mathrm{translational} = \\frac{\\ell^{2} m \\dot{\\varphi}^{2}}{2}$"
            ],
            "text/plain": [
              "                               2          2\n",
              "                           \\ell ⋅m⋅\\vaṙphi \n",
              "T_\\mathrm{translational} = ────────────────\n",
              "                                  2        "
            ]
          },
          "execution_count": 11,
          "metadata": {},
          "output_type": "execute_result"
        }
      ],
      "source": [
        "# System's kinetic energy\n",
        "particle_T = energyKineticTranslation(particle_m, particle_r, e)\n",
        "particle_T"
      ]
    },
    {
      "cell_type": "markdown",
      "metadata": {
        "id": "Uyfnkhb3BPcb"
      },
      "source": [
        "If we set $V(y_0)= 0$, the gravitational potential is $V(y)= m g y$, but since we are using cylindrical coordinates, we better use the now known expression\n",
        "$$\n",
        "V_\\mathrm{gravitational} = - \\vec{P} \\cdot \\vec{r} = - (m \\vec{g}) \\cdot \\vec{r}\n",
        "$$"
      ]
    },
    {
      "cell_type": "code",
      "execution_count": 12,
      "metadata": {},
      "outputs": [],
      "source": [
        "def energyPotentialGravitational(mass, position, accelerationGravity):\n",
        "    \"\"\"\n",
        "    Provides the gravitational potential energy of a particle of mass m and position r in a given frame of reference in which g is the acceleration due to gravity.\n",
        "    \n",
        "    Parameters\n",
        "    ----------\n",
        "    accelerationGravity: (sympy.physics.vector.vector.Vector)\n",
        "        vector oriented according to the frame of reference\n",
        "    mass: (sympy.core.symbol.Symbol\n",
        "        of the body\n",
        "    position: (sympy.core.symbol.Symbol)\n",
        "        of the center of mass in a frame of reference related to the one for the acceleration due to gravity\n",
        "\n",
        "    Returns\n",
        "    -------\n",
        "    Sympy Equality (sympy.core.relational.Equality)\n",
        "        The potential energy of the system is made explicit on the right-hand side, as a function of the generalized coordinates and velocities, and time.\n",
        "    coordinateGeneralized: Sympy Symbol (sympy.core.symbol.Symbol)\n",
        "        V = - (m \\vec{accelerationGravity}) \\cdot{position}\n",
        "    \"\"\"\n",
        "    V_gravitational = sm.Eq(\n",
        "        sm.Symbol('V_\\mathrm{gravitational}'),\n",
        "        - (mass* accelerationGravity).dot(position)\n",
        "        ).simplify()\n",
        "    return V_gravitational"
      ]
    },
    {
      "cell_type": "code",
      "execution_count": 13,
      "metadata": {
        "colab": {
          "base_uri": "https://localhost:8080/",
          "height": 38
        },
        "id": "DtGW_u5TBPcc",
        "outputId": "24deb475-7061-4ea2-ed60-d0c923abbee6",
        "tags": []
      },
      "outputs": [
        {
          "data": {
            "image/png": "[encoded data removed]",
            "text/latex": [
              "$\\displaystyle V_\\mathrm{gravitational} = - \\ell g m \\cos{\\left(\\varphi \\right)}$"
            ],
            "text/plain": [
              "V_\\mathrm{gravitational} = -\\ell⋅g⋅m⋅cos(\\varphi)"
            ]
          },
          "execution_count": 13,
          "metadata": {},
          "output_type": "execute_result"
        }
      ],
      "source": [
        "# Potential energy\n",
        "g_vector = g* (-e.y) # acceleration due to gravity on -y versor\n",
        "particle_V = energyPotentialGravitational(particle_m, particle_r, g_vector)\n",
        "particle_V"
      ]
    },
    {
      "cell_type": "markdown",
      "metadata": {
        "id": "apHdLrEEBPcc"
      },
      "source": [
        "### Lagrangian for the ideal pendulum\n",
        "Using the expressions for $T$ and $V$ calculated previously, we can write the Lagrangian for the ideal pendulum\n",
        "$$\n",
        "\\mathcal{L}(\\varphi, \\dot{\\varphi})= T(\\dot{\\varphi}) - V(\\varphi)\n",
        "$$"
      ]
    },
    {
      "cell_type": "code",
      "execution_count": 14,
      "metadata": {
        "colab": {
          "base_uri": "https://localhost:8080/",
          "height": 54
        },
        "id": "kQvEV0jmBPcd",
        "outputId": "50e3eeaa-b7de-4d17-af7c-c0c47be645b1"
      },
      "outputs": [
        {
          "data": {
            "image/png": "[encoded data removed]",
            "text/latex": [
              "$\\displaystyle \\mathcal{L}{\\left(\\varphi,\\dot{\\varphi} \\right)} = \\frac{\\ell^{2} m \\dot{\\varphi}^{2}}{2} + \\ell g m \\cos{\\left(\\varphi \\right)}$"
            ],
            "text/plain": [
              "                                    2          2                        \n",
              "                                \\ell ⋅m⋅\\vaṙphi                         \n",
              "\\mathcal{L}(\\varphi, \\vaṙphi) = ──────────────── + \\ell⋅g⋅m⋅cos(\\varphi)\n",
              "                                       2                                "
            ]
          },
          "execution_count": 14,
          "metadata": {},
          "output_type": "execute_result"
        }
      ],
      "source": [
        "t = sm.Symbol('t') # we will differentiate with respect to time, so it is declared as symbol\n",
        "L_ideal = sm.Eq(sm.Function('\\mathcal{L}')(phi, sm.diff(phi,t) ) , particle_T.rhs - particle_V.rhs ) \n",
        "L_ideal"
      ]
    },
    {
      "cell_type": "markdown",
      "metadata": {
        "id": "ODWRqo4pBPcf"
      },
      "source": [
        "### Euler-Lagrange equation for the ideal pendulum\n",
        "\n",
        "We will use this simple system to show that the Euler-Lagrange equations allow us to find the same dynamic equations that we find using Newton's second law.\n",
        "\n",
        "We set up the Euler-Lagrange equation for the only generalized coordinate $\\varphi$\n",
        "$$\n",
        "\\begin{aligned}\n",
        "\\frac{\\mathrm{d}}{\\mathrm{d} t} \\frac{\\partial \\mathcal{L} }{\\partial \\dot{\\varphi} }\n",
        "- \\frac{\\partial \\mathcal{L} }{\\partial \\varphi} &\n",
        " = 0 \\\\\n",
        "\\end{aligned}.\n",
        "$$"
      ]
    },
    {
      "cell_type": "markdown",
      "metadata": {
        "id": "FGrreOO2BPcf"
      },
      "source": [
        "We start by calculating `phi_dtdp`\n",
        "$$\n",
        "\\frac{\\mathrm{d}}{\\mathrm{d}t} \\frac{\\partial}{\\partial \\dot{\\varphi_i}} \\mathcal{L}\n",
        "$$"
      ]
    },
    {
      "cell_type": "code",
      "execution_count": 15,
      "metadata": {
        "colab": {
          "base_uri": "https://localhost:8080/",
          "height": 38
        },
        "id": "0Olx3s8ZBPcf",
        "outputId": "b9681e75-bd54-4a0e-c628-2fc80f2f0527"
      },
      "outputs": [
        {
          "data": {
            "image/png": "[encoded data removed]",
            "text/latex": [
              "$\\displaystyle \\ell^{2} m \\ddot{\\varphi}$"
            ],
            "text/plain": [
              "    2          \n",
              "\\ell ⋅m⋅\\var̈phi"
            ]
          },
          "execution_count": 15,
          "metadata": {},
          "output_type": "execute_result"
        }
      ],
      "source": [
        "phi_dtdp = L_ideal.rhs.diff(phi.diff(t)).diff(t) # differentiates with respect to phi dot and then with respect to t\n",
        "phi_dtdp.simplify()"
      ]
    },
    {
      "cell_type": "markdown",
      "metadata": {
        "id": "N0Mb8cHPBPcg"
      },
      "source": [
        "And then `phi_dq`\n",
        "$$\n",
        "\\frac{\\partial}{\\partial \\varphi_i} \\mathcal{L}\n",
        "$$"
      ]
    },
    {
      "cell_type": "code",
      "execution_count": 16,
      "metadata": {
        "colab": {
          "base_uri": "https://localhost:8080/",
          "height": 38
        },
        "id": "n5GQyn_RBPcg",
        "outputId": "afa571a1-4e30-43ba-8875-887d8c59acbc"
      },
      "outputs": [
        {
          "data": {
            "image/png": "[encoded data removed]",
            "text/latex": [
              "$\\displaystyle - \\ell g m \\sin{\\left(\\varphi \\right)}$"
            ],
            "text/plain": [
              "-\\ell⋅g⋅m⋅sin(\\varphi)"
            ]
          },
          "execution_count": 16,
          "metadata": {},
          "output_type": "execute_result"
        }
      ],
      "source": [
        "phi_dq = L_ideal.rhs.diff(phi)\n",
        "phi_dq.simplify()"
      ]
    },
    {
      "cell_type": "markdown",
      "metadata": {
        "id": "99Lhlv6dBPcg"
      },
      "source": [
        "With these results, we write the Euler-Lagrange equation"
      ]
    },
    {
      "cell_type": "code",
      "execution_count": 17,
      "metadata": {
        "colab": {
          "base_uri": "https://localhost:8080/",
          "height": 38
        },
        "id": "0-FgJYquBPch",
        "outputId": "d2e72065-cb39-4a9e-9e2a-aacf8f49c59c"
      },
      "outputs": [
        {
          "data": {
            "image/png": "[encoded data removed]",
            "text/latex": [
              "$\\displaystyle \\ell m \\left(\\ell \\ddot{\\varphi} + g \\sin{\\left(\\varphi \\right)}\\right) = 0$"
            ],
            "text/plain": [
              "\\ell⋅m⋅(\\ell⋅\\var̈phi + g⋅sin(\\varphi)) = 0"
            ]
          },
          "execution_count": 17,
          "metadata": {},
          "output_type": "execute_result"
        }
      ],
      "source": [
        "phi_EL = sm.Eq(\n",
        "  phi_dtdp - phi_dq,\n",
        "  0\n",
        "  ).simplify()\n",
        "phi_EL"
      ]
    },
    {
      "cell_type": "markdown",
      "metadata": {
        "id": "EwQmmBRHBPch"
      },
      "source": [
        "From this, we can solve for $\\varphi$"
      ]
    },
    {
      "cell_type": "code",
      "execution_count": 18,
      "metadata": {
        "colab": {
          "base_uri": "https://localhost:8080/",
          "height": 53
        },
        "id": "qYozAbf2BPch",
        "outputId": "757ba0db-8da2-4c14-e985-69fb72590578"
      },
      "outputs": [
        {
          "data": {
            "image/png": "[encoded data removed]",
            "text/latex": [
              "$\\displaystyle \\ddot{\\varphi} = - \\frac{g \\sin{\\left(\\varphi \\right)}}{\\ell}$"
            ],
            "text/plain": [
              "          -g⋅sin(\\varphi) \n",
              "\\var̈phi = ────────────────\n",
              "                \\ell      "
            ]
          },
          "execution_count": 18,
          "metadata": {},
          "output_type": "execute_result"
        }
      ],
      "source": [
        "variable = phi.diff(t,2) # diff(t,2): second derivative with respect to time\n",
        "sm.Eq(\n",
        "  variable,\n",
        "  sm.solveset(phi_EL, phi.diff(t,2) ).args[0]\n",
        "  )"
      ]
    },
    {
      "cell_type": "markdown",
      "metadata": {
        "id": "vvHy7cUSBPci"
      },
      "source": [
        "## Pendulum with free support\n",
        ">- Section 5 ($\\S 5$) Exercise 2  \n",
        "Mechanics  \n",
        "Lev Davidovich Landau and E. M. Lifshitz  \n",
        "Institute of physical problems, USSR Academy of Sciences, 1976"
      ]
    },
    {
      "cell_type": "markdown",
      "metadata": {},
      "source": [
        "![../03EulerLagrange/figures/landauS52_fig2.png](data:image/png;base64,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)"
      ]
    },
    {
      "cell_type": "code",
      "execution_count": 19,
      "metadata": {
        "id": "WY_k7TYNBPck"
      },
      "outputs": [],
      "source": [
        "# Parameters for the system\n",
        "m1, m2, g, l = sm.symbols('m_1, m_2, g, \\ell', positive=True)\n",
        "\n",
        "# Generalized coordinates\n",
        "t = sm.symbols('t') # time\n",
        "x, phi = me.dynamicsymbols('x, varphi')\n",
        "\n",
        "# positions\n",
        "particle1_r = x* e.x\n",
        "particle2_r = particle1_r + l* (sm.cos(phi)* (-e.y) + sm.sin(phi)* (e.x)) # recall that y is directed upward\n",
        "\n",
        "# masses\n",
        "particle1_m = m1\n",
        "particle2_m = m2"
      ]
    },
    {
      "cell_type": "code",
      "execution_count": 20,
      "metadata": {
        "colab": {
          "base_uri": "https://localhost:8080/",
          "height": 66
        },
        "id": "J7Vz2XLBBPck",
        "outputId": "5c27c04d-5905-479d-a042-a97a1223b7bc",
        "tags": []
      },
      "outputs": [
        {
          "data": {
            "image/png": "[encoded data removed]",
            "text/latex": [
              "$\\displaystyle T_\\mathrm{translational} = \\frac{m_{1} \\dot{x}^{2}}{2} + \\frac{m_{2} \\left(\\ell^{2} \\dot{\\varphi}^{2} + 2 \\ell \\cos{\\left(\\varphi \\right)} \\dot{\\varphi} \\dot{x} + \\dot{x}^{2}\\right)}{2}$"
            ],
            "text/plain": [
              "                               2      ⎛    2       2                          \n",
              "                           m₁⋅ẋ    m₂⋅⎝\\ell ⋅varṗhi  + 2⋅\\ell⋅cos(varphi)⋅va\n",
              "T_\\mathrm{translational} = ───── + ───────────────────────────────────────────\n",
              "                             2                               2                \n",
              "\n",
              "        2⎞\n",
              "rṗhi⋅ẋ + ẋ ⎠\n",
              "──────────\n",
              "          "
            ]
          },
          "execution_count": 20,
          "metadata": {},
          "output_type": "execute_result"
        }
      ],
      "source": [
        "# System's kinetic energy\n",
        "particle1_T = energyKineticTranslation(particle1_m, particle1_r, e)\n",
        "particle2_T = energyKineticTranslation(particle2_m, particle2_r, e)\n",
        "free_T = sm.Eq(\n",
        "  particle1_T.lhs,\n",
        "  particle1_T.rhs + particle2_T.rhs\n",
        "  ).simplify()\n",
        "free_T"
      ]
    },
    {
      "cell_type": "code",
      "execution_count": 21,
      "metadata": {
        "colab": {
          "base_uri": "https://localhost:8080/",
          "height": 38
        },
        "id": "U2Je7ueZBPcl",
        "outputId": "df41d7d2-5d3a-4c99-d0c7-d5a1b8357ac0"
      },
      "outputs": [
        {
          "data": {
            "image/png": "[encoded data removed]",
            "text/latex": [
              "$\\displaystyle V_\\mathrm{gravitational} = - \\ell g m_{2} \\cos{\\left(\\varphi \\right)}$"
            ],
            "text/plain": [
              "V_\\mathrm{gravitational} = -\\ell⋅g⋅m₂⋅cos(varphi)"
            ]
          },
          "execution_count": 21,
          "metadata": {},
          "output_type": "execute_result"
        }
      ],
      "source": [
        "# Potential energy\n",
        "g_vector = g* (-e.y) # acceleration due to gravity on -y versor\n",
        "particle1_V = energyPotentialGravitational(particle1_m, particle1_r, g_vector)\n",
        "particle2_V = energyPotentialGravitational(particle2_m, particle2_r, g_vector)\n",
        "free_V = sm.Eq(\n",
        "  particle2_V.lhs,\n",
        "  particle1_V.rhs + particle2_V.rhs \n",
        "  ).simplify()\n",
        "free_V"
      ]
    },
    {
      "cell_type": "markdown",
      "metadata": {
        "id": "GosbtiUfBPcl"
      },
      "source": [
        "### Lagrangian"
      ]
    },
    {
      "cell_type": "markdown",
      "metadata": {
        "id": "AmYi3bPCBPcl"
      },
      "source": [
        "Using $T$ and $V$, we finally express\n",
        "$$\n",
        "\\mathcal{L} (\\dot{x}, \\varphi, \\dot{\\varphi})=\n",
        "T(\\dot{x}, \\varphi, \\dot{\\varphi}) - V(\\varphi).\n",
        "$$"
      ]
    },
    {
      "cell_type": "code",
      "execution_count": 23,
      "metadata": {
        "colab": {
          "base_uri": "https://localhost:8080/",
          "height": 66
        },
        "id": "o1FWdMdXBPcl",
        "outputId": "c52fe680-42d3-42bb-b562-3236d1528683"
      },
      "outputs": [
        {
          "data": {
            "image/png": "[encoded data removed]",
            "text/latex": [
              "$\\displaystyle \\mathcal{L}{\\left(\\dot{x},\\varphi,\\dot{\\varphi} \\right)} = \\ell g m_{2} \\cos{\\left(\\varphi \\right)} + \\frac{m_{1} \\dot{x}^{2}}{2} + \\frac{m_{2} \\left(\\ell^{2} \\dot{\\varphi}^{2} + 2 \\ell \\cos{\\left(\\varphi \\right)} \\dot{\\varphi} \\dot{x} + \\dot{x}^{2}\\right)}{2}$"
            ],
            "text/plain": [
              "                                                             2      ⎛    2    \n",
              "                                                         m₁⋅ẋ    m₂⋅⎝\\ell ⋅va\n",
              "\\mathcal{L}(ẋ, varphi, varṗhi) = \\ell⋅g⋅m₂⋅cos(varphi) + ───── + ───────────\n",
              "                                                           2                  \n",
              "\n",
              "   2                                  2⎞\n",
              "rṗhi  + 2⋅\\ell⋅cos(varphi)⋅varṗhi⋅ẋ + ẋ ⎠\n",
              "──────────────────────────────────────────\n",
              "             2                          "
            ]
          },
          "execution_count": 23,
          "metadata": {},
          "output_type": "execute_result"
        }
      ],
      "source": [
        "free_L = sm.Eq(\n",
        "  sm.Function('\\mathcal{L}')(x.diff(t), phi, phi.diff(t) ),\n",
        "  free_T.rhs - free_V.rhs\n",
        "  ).simplify()\n",
        "free_L"
      ]
    },
    {
      "cell_type": "markdown",
      "metadata": {
        "id": "yu7W2rc_BPcl"
      },
      "source": [
        "### Euler-Lagrange equations"
      ]
    },
    {
      "cell_type": "markdown",
      "metadata": {
        "id": "sNpOtn1ABPcl"
      },
      "source": [
        "The system has two degrees of freedom, that we described with the generalized coordinates $x$ and $\\varphi$. We must find the Euler-Lagrange equation for both.\n",
        "\n",
        "The one for $x$ is\n",
        "$$\n",
        "\\frac{\\mathrm{d}}{\\mathrm{d} t} \\frac{\\partial \\mathcal{L} }{\\partial \\dot{x}} \n",
        "- \\frac{\\partial \\mathcal{L} }{\\partial x} \n",
        "= 0\n",
        "$$\n"
      ]
    },
    {
      "cell_type": "markdown",
      "metadata": {
        "id": "6jZmuorWBPcn"
      },
      "source": [
        "The LHS is simple because $x$ is not present in the Lagrangian, then\n",
        "$$\n",
        "\\frac{\\partial \\mathcal{L} }{\\partial x} = 0.\n",
        "$$\n",
        "\n",
        "The RHS is solved in two steps. First, we calculate the partial derivative with respect to the velocity\n",
        "$$\n",
        "\\frac{\\partial \\mathcal{L} }{\\partial \\dot{x}} =\n",
        "(m_1 + m_2) \\dot{x} + m_2 \\ell \\cos{(\\varphi)} \\dot{\\varphi}.\n",
        "$$\n",
        "and then we differentiate this with respect to time\n",
        "$$\n",
        "\\frac{\\mathrm{d}}{\\mathrm{d} t} \\frac{\\partial \\mathcal{L} }{\\partial \\dot{x}} =\n",
        "(m_1 + m_2) \\ddot{x} + m_2 \\ell ( - \\sin{(\\varphi)} \\dot{\\varphi}^2 +  \\cos{(\\varphi)} \\ddot{\\varphi} )\\,.\n",
        "$$\n",
        "\n",
        "Merging both results we have\n",
        "\n",
        "$$\n",
        "\\begin{aligned}\n",
        "\\frac{\\mathrm{d}}{\\mathrm{d} t} \\frac{\\partial \\mathcal{L} }{\\partial \\dot{x} }\n",
        "- \\frac{\\partial \\mathcal{L} }{\\partial x} \n",
        "& = 0 \\\\\n",
        "\\left[ (m_1 + m_2) \\ddot{x} + m_2 \\ell ( - \\sin{(\\varphi)} \\dot{\\varphi}^2 +  \\cos{(\\varphi)} \\ddot{\\varphi} ) \\right]\n",
        "- 0 & = 0\\\\\n",
        "m_1 \\ddot{x} + m_2 ( - \\ell \\sin{(\\varphi)} \\dot{\\varphi}^2 +  \\ell \\cos{(\\varphi)} \\ddot{\\varphi} + \\ddot{x} ) & = 0.\n",
        "\\end{aligned}\n",
        "$$"
      ]
    },
    {
      "cell_type": "code",
      "execution_count": 24,
      "metadata": {
        "colab": {
          "base_uri": "https://localhost:8080/",
          "height": 48
        },
        "id": "dFkjCVMfBPcn",
        "outputId": "a834cea6-1dc5-44a8-c4c2-1b34c2382bab"
      },
      "outputs": [
        {
          "data": {
            "image/png": "[encoded data removed]",
            "text/latex": [
              "$\\displaystyle m_{1} \\ddot{x} + m_{2} \\left(- \\ell \\sin{\\left(\\varphi \\right)} \\dot{\\varphi}^{2} + \\ell \\cos{\\left(\\varphi \\right)} \\ddot{\\varphi} + \\ddot{x}\\right) = 0$"
            ],
            "text/plain": [
              "          ⎛                         2                              ⎞    \n",
              "m₁⋅ẍ + m₂⋅⎝- \\ell⋅sin(varphi)⋅varṗhi  + \\ell⋅cos(varphi)⋅varp̈hi + ẍ⎠ = 0"
            ]
          },
          "execution_count": 24,
          "metadata": {},
          "output_type": "execute_result"
        }
      ],
      "source": [
        "x_free_EL = sm.Eq(\n",
        "  free_L.rhs.diff(x.diff(t) ).diff(t) - free_L.rhs.diff(x),\n",
        "  0\n",
        "  ).simplify()\n",
        "x_free_EL"
      ]
    },
    {
      "cell_type": "markdown",
      "metadata": {
        "id": "fKHkyNEtBPcn"
      },
      "source": [
        "The expression for $\\varphi$ is a bit more complex:\n",
        "\n",
        "$$\n",
        "\\begin{aligned}\n",
        "\\frac{\\mathrm{d}}{\\mathrm{d} t} \\frac{\\partial \\mathcal{L} }{\\partial \\dot{\\varphi}} \n",
        "& - \\frac{\\partial \\mathcal{L} }{\\partial \\varphi}\n",
        "= 0 \\\\\n",
        "\\frac{\\mathrm{d}}{\\mathrm{d} t} \\left[ \n",
        "   m_2 \\ell^2 \\dot{\\varphi}\n",
        " + m_2 \\dot{x} \\ell \\cos{\\varphi} \n",
        " \\right]\n",
        "& \n",
        "- \\left[m_2 g \\ell (-\\sin{\\varphi}) + m_2 \\dot{x} \\ell (-\\sin{\\varphi}) \\dot{\\varphi} \\right]\n",
        " =0 \\\\\n",
        " m_2 \\left[ \n",
        "     \\ell^2 \\ddot{\\varphi}\n",
        "  + \\dot{x} \\ell (-\\sin{\\varphi}) \\dot{\\varphi}\n",
        "  + \\ddot{x} \\ell \\cos{\\varphi}\n",
        " \\right] \n",
        " & -\n",
        " (-\\sin{\\varphi}) \\left[ m_2 g \\ell + m_2 \\dot{x} \\ell \\dot{\\varphi} \\right]\n",
        " = 0\n",
        "\\end{aligned}.\n",
        "$$"
      ]
    },
    {
      "cell_type": "code",
      "execution_count": 25,
      "metadata": {
        "colab": {
          "base_uri": "https://localhost:8080/",
          "height": 66
        },
        "id": "F0fThqKKBPcn",
        "outputId": "48418b60-3794-4cdc-fc03-2757ce5945b0"
      },
      "outputs": [
        {
          "data": {
            "image/png": "[encoded data removed]",
            "text/latex": [
              "$\\displaystyle \\ell g m_{2} \\sin{\\left(\\varphi \\right)} + \\ell m_{2} \\sin{\\left(\\varphi \\right)} \\dot{\\varphi} \\dot{x} + \\frac{m_{2} \\cdot \\left(2 \\ell^{2} \\ddot{\\varphi} - 2 \\ell \\sin{\\left(\\varphi \\right)} \\dot{\\varphi} \\dot{x} + 2 \\ell \\cos{\\left(\\varphi \\right)} \\ddot{x}\\right)}{2} = 0$"
            ],
            "text/plain": [
              "                                                          ⎛      2            \n",
              "                                                       m₂⋅⎝2⋅\\ell ⋅varp̈hi - 2\n",
              "\\ell⋅g⋅m₂⋅sin(varphi) + \\ell⋅m₂⋅sin(varphi)⋅varṗhi⋅ẋ + ─────────────────────\n",
              "                                                                              \n",
              "\n",
              "                                                ⎞    \n",
              "⋅\\ell⋅sin(varphi)⋅varṗhi⋅ẋ + 2⋅\\ell⋅cos(varphi)⋅ẍ⎠    \n",
              "─────────────────────────────────────────────────── = 0\n",
              "            2                                        "
            ]
          },
          "execution_count": 25,
          "metadata": {},
          "output_type": "execute_result"
        }
      ],
      "source": [
        "phi_free_EL = sm.Eq(\n",
        "  free_L.rhs.diff(phi.diff(t) ).diff(t)\n",
        "  - free_L.rhs.diff(phi) ,\n",
        "  0\n",
        "  )\n",
        "phi_free_EL"
      ]
    },
    {
      "cell_type": "markdown",
      "metadata": {
        "id": "BzmCpUgvBPcn"
      },
      "source": [
        "This can be simplified:"
      ]
    },
    {
      "cell_type": "code",
      "execution_count": 26,
      "metadata": {
        "colab": {
          "base_uri": "https://localhost:8080/",
          "height": 48
        },
        "id": "X_mCSt0PBPcn",
        "outputId": "4bb63139-a740-40bf-8214-928dcb373ea4"
      },
      "outputs": [
        {
          "data": {
            "image/png": "[encoded data removed]",
            "text/latex": [
              "$\\displaystyle \\ell m_{2} \\left(\\ell \\ddot{\\varphi} + g \\sin{\\left(\\varphi \\right)} + \\cos{\\left(\\varphi \\right)} \\ddot{x}\\right) = 0$"
            ],
            "text/plain": [
              "\\ell⋅m₂⋅(\\ell⋅varp̈hi + g⋅sin(varphi) + cos(varphi)⋅ẍ) = 0"
            ]
          },
          "execution_count": 26,
          "metadata": {},
          "output_type": "execute_result"
        }
      ],
      "source": [
        "phi_free_EL.simplify()"
      ]
    },
    {
      "cell_type": "markdown",
      "metadata": {
        "id": "zJjFSqSvBPcn"
      },
      "source": [
        "Solving these coupled Euler-Lagrange equations ($\\ddot{x}$ is present in both) is something that we will do in future classes, through numerical simulations."
      ]
    },
    {
      "cell_type": "markdown",
      "metadata": {
        "id": "6YDLLvOVBPco"
      },
      "source": [
        "### Recalling the ideal pendulum"
      ]
    },
    {
      "cell_type": "markdown",
      "metadata": {
        "id": "eb0F43TGBPco"
      },
      "source": [
        "We can recall the ideal pendulum case from the pendulum with free support if we set $m_1$ at rest, by requiring $x \\equiv 0$ and therefore $\\dot{x} = 0$."
      ]
    },
    {
      "cell_type": "code",
      "execution_count": 27,
      "metadata": {
        "colab": {
          "base_uri": "https://localhost:8080/",
          "height": 56
        },
        "id": "2DedUgY-BPco",
        "outputId": "e83d8bd1-e5a1-4c37-de69-3a6ff45add65"
      },
      "outputs": [
        {
          "data": {
            "image/png": "[encoded data removed]",
            "text/latex": [
              "$\\displaystyle \\mathcal{L}{\\left(0,\\varphi,\\dot{\\varphi} \\right)} = \\frac{\\ell^{2} m_{2} \\dot{\\varphi}^{2}}{2} + \\ell g m_{2} \\cos{\\left(\\varphi \\right)}$"
            ],
            "text/plain": [
              "                                     2          2                        \n",
              "                                 \\ell ⋅m₂⋅varṗhi                         \n",
              "\\mathcal{L}(0, varphi, varṗhi) = ──────────────── + \\ell⋅g⋅m₂⋅cos(varphi)\n",
              "                                        2                                "
            ]
          },
          "execution_count": 27,
          "metadata": {},
          "output_type": "execute_result"
        }
      ],
      "source": [
        "substitutions = {\n",
        "    x : 0,\n",
        "    x.diff(t) : 0,\n",
        "} # this is a dictionary in Python\n",
        "free_L.subs(substitutions)"
      ]
    },
    {
      "cell_type": "markdown",
      "metadata": {
        "id": "qWltnGbhBPco"
      },
      "source": [
        "which is the Lagrangian for the ideal pendulum.\n",
        "\n",
        "We could do the same in the Euler-Lagrange equation for $\\varphi$"
      ]
    },
    {
      "cell_type": "code",
      "execution_count": 28,
      "metadata": {
        "colab": {
          "base_uri": "https://localhost:8080/",
          "height": 48
        },
        "id": "jcZLfRwHBPcp",
        "outputId": "426b698a-2293-4446-a0c0-ce544f14803c"
      },
      "outputs": [
        {
          "data": {
            "image/png": "[encoded data removed]",
            "text/latex": [
              "$\\displaystyle \\ell m_{2} \\left(\\ell \\ddot{\\varphi} + g \\sin{\\left(\\varphi \\right)}\\right) = 0$"
            ],
            "text/plain": [
              "\\ell⋅m₂⋅(\\ell⋅varp̈hi + g⋅sin(varphi)) = 0"
            ]
          },
          "execution_count": 28,
          "metadata": {},
          "output_type": "execute_result"
        }
      ],
      "source": [
        "phi_free_EL_subs = phi_free_EL.subs(substitutions).simplify()\n",
        "phi_free_EL_subs"
      ]
    },
    {
      "cell_type": "markdown",
      "metadata": {
        "id": "tCK4d-v4BPcp"
      },
      "source": [
        "where we see the dynamic equation for the ideal pendulum inside parenthesis, from which we can solve"
      ]
    },
    {
      "cell_type": "code",
      "execution_count": 29,
      "metadata": {
        "colab": {
          "base_uri": "https://localhost:8080/",
          "height": 53
        },
        "id": "ZrczzbxKBPcq",
        "outputId": "2deca174-0a6c-4bf6-c067-a02056ecdc44",
        "tags": []
      },
      "outputs": [
        {
          "data": {
            "image/png": "[encoded data removed]",
            "text/latex": [
              "$\\displaystyle \\ddot{\\varphi} = - \\frac{g \\sin{\\left(\\varphi \\right)}}{\\ell}$"
            ],
            "text/plain": [
              "         -g⋅sin(varphi) \n",
              "varp̈hi = ───────────────\n",
              "               \\ell     "
            ]
          },
          "execution_count": 29,
          "metadata": {},
          "output_type": "execute_result"
        }
      ],
      "source": [
        "variable = phi.diff(t,2)\n",
        "sm.Eq(\n",
        "  variable,\n",
        "  sm.solveset(phi_free_EL_subs, phi.diff(t,2) ).args[0]\n",
        "  )"
      ]
    },
    {
      "cell_type": "markdown",
      "metadata": {
        "id": "TxkUM81lCLxN"
      },
      "source": [
        "## Function for generating Euler-Lagrange equations"
      ]
    },
    {
      "cell_type": "markdown",
      "metadata": {
        "id": "yl16jzvRCf2N"
      },
      "source": [
        "Similar to what we did for kinetic and potential energy, we can write a Python function for calculating an Euler-Lagrange equation."
      ]
    },
    {
      "cell_type": "code",
      "execution_count": 31,
      "metadata": {},
      "outputs": [],
      "source": [
        "def eulerLagrange(T, V, coordinateGeneralized):\n",
        "    '''    \n",
        "    Provides the Euler-Lagrange equation for one generalized coordinate starting from the energies.\n",
        "    \n",
        "    Parameters\n",
        "    ----------\n",
        "    T : Sympy Equality (sympy.core.relational.Equality)\n",
        "        The kinetic energy of the system is explicit on the right-hand side, as a function of the generalized coordinates and velocities, and time.\n",
        "    V : Igualdad Sympy (sympy.core.relational.Equality)\n",
        "        The potential energy of the system is explicit on the right-hand side, as a function of the generalized coordinates and velocities, and time.\n",
        "    coordinateGeneralized: Sympy Symbol (sympy.core.symbol.Symbol)\n",
        "        for which we are looking the Euler-Lagrange equation\n",
        "        \n",
        "    Returns\n",
        "    -------\n",
        "    Sympy Equality (sympy.core.relational.Equality)\n",
        "        Homogeneous Euler-Lagrange equation\n",
        "    '''\n",
        "    lagrangian = (T.rhs - V.rhs).expand()\n",
        "    t = sm.Symbol('t') # since we have to differentiate respect to time, the function diff declares t as a symbol\n",
        "    return sm.Eq(\n",
        "        lagrangian.diff(coordinateGeneralized) \n",
        "        - lagrangian.diff(coordinateGeneralized.diff(t)).diff(t)\n",
        "        , 0\n",
        "    ).simplify()"
      ]
    },
    {
      "cell_type": "markdown",
      "metadata": {
        "id": "U_8TPb2iC_R7"
      },
      "source": [
        "We must use this function for each generalized coordinate.\n",
        "\n",
        "So in this case, we must use it twice."
      ]
    },
    {
      "cell_type": "code",
      "execution_count": 32,
      "metadata": {
        "colab": {
          "base_uri": "https://localhost:8080/",
          "height": 39
        },
        "id": "eL9WAiOADlkQ",
        "outputId": "788ca46e-78af-4ba9-c52b-1258d0cf521e"
      },
      "outputs": [
        {
          "data": {
            "image/png": "[encoded data removed]",
            "text/latex": [
              "$\\displaystyle - \\ell m_{2} \\sin{\\left(\\varphi \\right)} \\dot{\\varphi}^{2} + \\ell m_{2} \\cos{\\left(\\varphi \\right)} \\ddot{\\varphi} + m_{1} \\ddot{x} + m_{2} \\ddot{x} = 0$"
            ],
            "text/plain": [
              "                            2                                               \n",
              "- \\ell⋅m₂⋅sin(varphi)⋅varṗhi  + \\ell⋅m₂⋅cos(varphi)⋅varp̈hi + m₁⋅ẍ + m₂⋅ẍ = 0"
            ]
          },
          "execution_count": 32,
          "metadata": {},
          "output_type": "execute_result"
        }
      ],
      "source": [
        "x_EL = eulerLagrange(free_T, free_V, x)\n",
        "phi_EL = eulerLagrange(free_T, free_V, phi)\n",
        "x_EL"
      ]
    },
    {
      "cell_type": "markdown",
      "metadata": {
        "id": "KocU_6VpENZA"
      },
      "source": [
        "This is the same as the one we get manually for $x$."
      ]
    },
    {
      "cell_type": "code",
      "execution_count": 33,
      "metadata": {
        "colab": {
          "base_uri": "https://localhost:8080/",
          "height": 48
        },
        "id": "-dAojvqiEM2h",
        "outputId": "e7c87f94-8631-436a-af0f-0dae02929a41"
      },
      "outputs": [
        {
          "data": {
            "image/png": "[encoded data removed]",
            "text/latex": [
              "$\\displaystyle \\ell m_{2} \\left(\\ell \\ddot{\\varphi} + g \\sin{\\left(\\varphi \\right)} + \\cos{\\left(\\varphi \\right)} \\ddot{x}\\right) = 0$"
            ],
            "text/plain": [
              "\\ell⋅m₂⋅(\\ell⋅varp̈hi + g⋅sin(varphi) + cos(varphi)⋅ẍ) = 0"
            ]
          },
          "execution_count": 33,
          "metadata": {},
          "output_type": "execute_result"
        }
      ],
      "source": [
        "phi_EL"
      ]
    },
    {
      "cell_type": "markdown",
      "metadata": {
        "id": "CBPPYKvfEUd4"
      },
      "source": [
        "And the same for $\\varphi$.\n",
        "\n",
        "It is remarkable that we don't need to find the Lagrangian, the function deals with that."
      ]
    },
    {
      "cell_type": "markdown",
      "metadata": {},
      "source": []
    }
  ],
  "metadata": {
    "colab": {
      "provenance": [],
      "toc_visible": true
    },
    "kernelspec": {
      "display_name": "utn",
      "language": "python",
      "name": "python3"
    },
    "language_info": {
      "codemirror_mode": {
        "name": "ipython",
        "version": 3
      },
      "file_extension": ".py",
      "mimetype": "text/x-python",
      "name": "python",
      "nbconvert_exporter": "python",
      "pygments_lexer": "ipython3",
      "version": "3.10.12"
    }
  },
  "nbformat": 4,
  "nbformat_minor": 0
}
