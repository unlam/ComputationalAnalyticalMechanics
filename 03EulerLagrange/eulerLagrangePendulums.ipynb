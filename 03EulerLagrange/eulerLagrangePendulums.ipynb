{
  "cells": [
    {
      "cell_type": "markdown",
      "metadata": {
        "id": "e-JjRy7GBPcP"
      },
      "source": [
        "# Euler-Lagrange | Péndulos"
      ]
    },
    {
      "cell_type": "markdown",
      "metadata": {},
      "source": [
        "[![DIIT - UNLaM](data:image/png;base64,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)](https://ingenieria.unlam.edu.ar/)    \n",
        "[![by-nc-sa_80x15.png](data:image/png;base64,iVBORw0KGgoAAAANSUhEUgAAAFAAAAAPCAMAAABEF7i9AAAABGdBTUEAANbY1E9YMgAAAJZQTFRF////7u7u3d3dys7KzMzMyMzIxsrGxcbFur+6u7u7s7iyq7GqqqqqmZmZlJmTj5CPiIiIh4eHhoaGgICAfYJ9d3d3cnZxZ2tnZmZmW15bVVVVS0xLREREQ0NDQkJCQUJBOz07OTs5MzMzMTMxLjAuJygnJCUjIiIiISEhICAgGRkZERERDxAPDg4ODQ4NDQ0NDQ0MAAAADbeuvgAAAOhJREFUeNqtk+tyAiEMhQ+6XtroutZiveBdu+p2tXn/l3OQy8roL5fMMENC+HIIAI5sYEQ1DSRtP5zZkCpToubf2/oMMC0zX0QdiLqjmsD1sVKd8JSoNa8HvGRIclZCcZ5A7Yiag/s6oJPMYD8FKgIC3wG/+QP5DFIWot+DvBB1OxYAk+W2W88HqqwAOOZE6FuZbfWZZUn02fb1rTAHc3izZgQCrxWqSSFkH/IaKuSHEzEChfyk2PbwmqFX8EQo3jaw2Ac9DIFhD12Tn4CbU+RbTv+HHrj8jfAOacxflrc61/0psf9yZLsBr5WUrhUa3hEAAAAASUVORK5CYII=)](https://creativecommons.org/licenses/by-sa/4.0/deed.es_ES) \n",
        "2024 [Víctor A. Bettachini](mailto:vbettachini@unlam.edu.ar)  \n",
        "\n",
        "---"
      ]
    },
    {
      "cell_type": "markdown",
      "metadata": {},
      "source": [
        "## Ecuación de Euler-Lagrange"
      ]
    },
    {
      "cell_type": "markdown",
      "metadata": {},
      "source": [
        "> Referencia\n",
        "> - Apunte Lanczos $\\S6$\n",
        "\n",
        "La ecuación de Euler-Lagrange para una coordenada generalizada $q$ es\n",
        "$$\n",
        "\\begin{aligned}\n",
        "\\frac{\\mathrm{d}}{\\mathrm{d} t} \\frac{\\partial \\mathcal{L} }{\\partial \\dot{q} }\n",
        "& -\\frac{\\partial \\mathcal{L} }{\\partial q}\n",
        " = 0\n",
        "\\end{aligned},\n",
        "$$\n",
        "donde $\\mathcal{L}$ es el Lagrangiano del sistema.\n",
        "\n",
        "**(Es imperativo leer la referencia para entender la deducción de esta ecuación)**"
      ]
    },
    {
      "cell_type": "markdown",
      "metadata": {},
      "source": [
        "### Lagrangiano\n",
        "> Referencia\n",
        "> - Apunte Lanczos $\\S5$\n",
        "\n",
        "El Lagrangiano (o función Lagrangiana) de un sistema es determinado por la energía cinética $T$ y el potencial $V$ de este sistema expresados en función de coordenadas, velocidades generalizadas y eventualmente el tiempo,\n",
        "$$\n",
        "\\mathcal{L} (q_i, \\dot{q}_i, t)= T(q_i, \\dot{q}_i, t) - V(q_i, \\dot{q}_i, t).\n",
        "$$"
      ]
    },
    {
      "cell_type": "markdown",
      "metadata": {},
      "source": [
        "## Ecuación de Euler-Lagrange para una partícula libre"
      ]
    },
    {
      "cell_type": "markdown",
      "metadata": {},
      "source": [
        "Para una partícula libre que se mueve en $\\hat{x}$ el Lagrangiano es la energía cinética\n",
        "$$\n",
        "\\mathcal{L} = T = \\frac{m}{2} \\dot{x}^2 .\n",
        "$$\n",
        "Si se diferencia en la velocidad $\\dot{x}$ se obtiene el momento lineal\n",
        "$$\n",
        "p_x = \\frac{\\partial}{\\partial \\dot{x}} \\mathcal{L} = \\frac{\\partial}{\\partial \\dot{x}} T = m \\dot{x} .\n",
        "$$\n",
        "\n",
        "Esto mismo se aplica para toda coordenada generalizada haciendo que los momentos generalizados se obtengan de \n",
        "$$\n",
        "p_i = \\frac{\\partial}{\\partial \\dot{q_i}} \\mathcal{L}. \n",
        "$$\n",
        "Se utiliza esto para dar nombre `dtdp` a la parte de la ecuación de Euler-Lagrange en que\n",
        "\n",
        "$$\\frac{\\mathrm{d}}{\\mathrm{d}t} \\frac{\\partial}{\\partial \\dot{q_i}} \\mathcal{L} = \\frac{\\mathrm{d}}{\\mathrm{d}t} p_i$$\n",
        "se deriva respecto al tiempo el momento generalizado $p_i$."
      ]
    },
    {
      "cell_type": "markdown",
      "metadata": {},
      "source": [
        "De manera similar el derivar respecto a la coordenada generalizada\n",
        "\n",
        "$$\n",
        "\\frac{\\partial}{\\partial q_i} \\mathcal{L},\n",
        "$$\n",
        "se notara como `dq`."
      ]
    },
    {
      "cell_type": "markdown",
      "metadata": {},
      "source": [
        "Para esta partícula la ecuación de Euler-Lagrange es\n",
        "$$\n",
        "\\begin{aligned}\n",
        "\\frac{\\mathrm{d}}{\\mathrm{d} t} \\frac{\\partial \\mathcal{L} }{\\partial \\dot{x} }\n",
        " -\\frac{\\partial \\mathcal{L} }{\\partial x}\n",
        "& = 0\\\\\n",
        " m \\ddot{x} &= 0\n",
        "\\end{aligned},\n",
        "$$\n",
        "Es decir que la aceleración de la partícula es nula, lo que es esperable para una partícula libre en el espacio que no tiene fuerzas actuando sobre ella, y por lo tanto, no cambia su velocidad."
      ]
    },
    {
      "cell_type": "markdown",
      "metadata": {
        "id": "YA8HN082BPcU"
      },
      "source": [
        "## Péndulo ideal\n",
        "![](figuras/pénduloHorizontal.png)   \n",
        "Un péndulo simple conviene trabajarlo en coordenadas cilíndricas.\n",
        "En estas un péndulo rígido e ideal tiene una única componente no nula de su velocidad: la que va en $\\hat{\\varphi}$, es decir, $\\dot{\\vec{r}} \\cdot \\hat{\\varphi}= \\ell \\dot{\\varphi}$."
      ]
    },
    {
      "cell_type": "code",
      "execution_count": 98,
      "metadata": {
        "id": "1Dr9YL4kBPcV",
        "tags": []
      },
      "outputs": [],
      "source": [
        "import sympy as sm # importamos funciones de cálculo simbólico\n",
        "from sympy.physics import mechanics as me # de sympy utilizaremos funciones de mecánica\n",
        "me.init_vprinting() # notación con punto para la velocidad y punto punto para la aceleración"
      ]
    },
    {
      "cell_type": "code",
      "execution_count": 99,
      "metadata": {
        "id": "Yvq0Tt3ABPcX",
        "tags": []
      },
      "outputs": [],
      "source": [
        "# Defino los parámetros físicos del sistema\n",
        "m, g, l = sm.symbols('m, g, \\ell', positive=True)\n",
        "\n",
        "# Defino coordenadas generalizadas\n",
        "e = me.ReferenceFrame('e') # sistema de referencia en coordenadas cartesianas\n",
        "phi = me.dynamicsymbols(r'\\varphi')"
      ]
    },
    {
      "cell_type": "code",
      "execution_count": 100,
      "metadata": {
        "colab": {
          "base_uri": "https://localhost:8080/",
          "height": 38
        },
        "id": "YEhUcbRaBPcY",
        "outputId": "8075b9a7-5b90-4272-9a6d-8116b2f77af1",
        "tags": []
      },
      "outputs": [
        {
          "data": {
            "image/png": "[encoded data removed]",
            "text/latex": [
              "$\\displaystyle \\ell \\sin{\\left(\\varphi \\right)}\\mathbf{\\hat{e}_x} -  \\ell \\cos{\\left(\\varphi \\right)}\\mathbf{\\hat{e}_y}$"
            ],
            "text/plain": [
              "\\ell⋅sin(\\varphi) e_x + -\\ell⋅cos(\\varphi) e_y"
            ]
          },
          "execution_count": 100,
          "metadata": {},
          "output_type": "execute_result"
        }
      ],
      "source": [
        "partícula_m = m\n",
        "partícula_r = l*(sm.sin(phi)* e.x - sm.cos(phi)* e.y )  # el versor y apunta hacia arriba\n",
        "partícula_r"
      ]
    },
    {
      "cell_type": "code",
      "execution_count": 101,
      "metadata": {},
      "outputs": [],
      "source": [
        "def energíaCinéticaTraslación(masa, posición, marcoDeReferencia):\n",
        "    \"\"\"\n",
        "    A partir de la masa y posición de una partícula puntual en un marco de referencia devuelve su energía cinética.\n",
        "    \n",
        "    Parámetros\n",
        "    ----------\n",
        "    masa: (sympy.core.symbol.Symbol)\n",
        "        De un partícula\n",
        "    posición: (sympy.physics.vector.vector.Vector)\n",
        "        del centro de masa de la partícula\n",
        "    marcoDeReferencia: (sympy.physics.vector.frame.ReferenceFrame)\n",
        "        En el que se expresa la posición\n",
        "    \n",
        "    Retorna\n",
        "    -------\n",
        "    Igualdad Sympy (sympy.core.relational.Equality)\n",
        "        En su lado derecho explicita la energía cinética del sistema en función de coordenadas y velocidades generalizadas y el tiempo.\n",
        "        Energía cinética, T = (m/2) \\dot{\\vec{r}} \\cdot\\dot{\\vec{r}}\n",
        "    \"\"\"\n",
        "    velocidad = posición.dt(marcoDeReferencia)\n",
        "    unMedio = sm.Rational(1,2) # Rational: fracción de enteros, alternativamente podría haberse usado 0.5 \n",
        "    T_traslación = sm.Eq(\n",
        "        sm.Symbol('T_{traslación}'),\n",
        "        unMedio* masa* velocidad.dot(velocidad)\n",
        "        ).simplify()\n",
        "    return T_traslación"
      ]
    },
    {
      "cell_type": "code",
      "execution_count": 102,
      "metadata": {
        "colab": {
          "base_uri": "https://localhost:8080/",
          "height": 54
        },
        "id": "l8NyhqzIBPcb",
        "outputId": "5612fb0e-5225-4108-8ca9-dcb738003522",
        "tags": []
      },
      "outputs": [
        {
          "data": {
            "image/png": "[encoded data removed]",
            "text/latex": [
              "$\\displaystyle T_{traslación} = \\frac{\\ell^{2} m \\dot{\\varphi}^{2}}{2}$"
            ],
            "text/plain": [
              "                     2          2\n",
              "                 \\ell ⋅m⋅\\vaṙphi \n",
              "T_{traslación} = ────────────────\n",
              "                        2        "
            ]
          },
          "execution_count": 102,
          "metadata": {},
          "output_type": "execute_result"
        }
      ],
      "source": [
        "# Energía cinética del sistema\n",
        "partícula_T = energíaCinéticaTraslación(partícula_m, partícula_r, e)\n",
        "partícula_T"
      ]
    },
    {
      "cell_type": "markdown",
      "metadata": {
        "id": "Uyfnkhb3BPcb"
      },
      "source": [
        "Si se estable $V(y_0)= 0$ el potencial gravitatorio es $V(y)= m g y$, pero al usar coordenadas cilíndricas es mejor calcular con el ahora conocido\n",
        "$$\n",
        "V_\\mathrm{gravitatoria} = - \\vec{P} \\cdot \\vec{r} = - (m \\vec{g}) \\cdot \\vec{r}\n",
        "$$"
      ]
    },
    {
      "cell_type": "code",
      "execution_count": 103,
      "metadata": {},
      "outputs": [],
      "source": [
        "def energíaPotencialGravitatoria(masa, posición, aceleracionGravitatoria):\n",
        "    \"\"\"\n",
        "    Retorna la energía potencial gravitatoria de una partícula de masa m cuya posición r está dada en un sistema de referencia en el cual g es la aceleración gravitatoria terrestre.\n",
        "    \n",
        "    Parámetros\n",
        "    ----------\n",
        "    aceleracionGravitatoria: (sympy.physics.vector.vector.Vector)\n",
        "        vector orientado según el sistema de referencia\n",
        "    masa: (sympy.core.symbol.Symbol\n",
        "        del cuerpo en cuestión\n",
        "    posición: (sympy.core.symbol.Symbol)\n",
        "        del centro de masa en un sistema de referencia relacionable con el de aceleracionGravitatoria\n",
        "    \n",
        "    Retorna\n",
        "    -------\n",
        "    Igualdad Sympy (sympy.core.relational.Equality)\n",
        "        En su lado derecho explicita la energía potencial del sistema en función de coordenadas y velocidades generalizadas y el tiempo.\n",
        "    coordenadaGeneralizada: Símbolo Sympy (sympy.core.symbol.Symbol)\n",
        "        V = - (m \\vec{aceleracionGravitatoria}) \\cdot{posición}\n",
        "    \"\"\"\n",
        "    V_gravitatoria = sm.Eq(\n",
        "        sm.Symbol('V_{gravitatoria}'),\n",
        "        - (masa* aceleracionGravitatoria).dot(posición)\n",
        "        ).simplify()\n",
        "    return V_gravitatoria"
      ]
    },
    {
      "cell_type": "code",
      "execution_count": 104,
      "metadata": {
        "colab": {
          "base_uri": "https://localhost:8080/",
          "height": 38
        },
        "id": "DtGW_u5TBPcc",
        "outputId": "24deb475-7061-4ea2-ed60-d0c923abbee6",
        "tags": []
      },
      "outputs": [
        {
          "data": {
            "image/png": "[encoded data removed]",
            "text/latex": [
              "$\\displaystyle V_{gravitatoria} = - \\ell g m \\cos{\\left(\\varphi \\right)}$"
            ],
            "text/plain": [
              "V_{gravitatoria} = -\\ell⋅g⋅m⋅cos(\\varphi)"
            ]
          },
          "execution_count": 104,
          "metadata": {},
          "output_type": "execute_result"
        }
      ],
      "source": [
        "# Energía potencial\n",
        "g_vector = g* (-e.y) # aceleración gravitatoria en -y versor\n",
        "partícula_V = energíaPotencialGravitatoria(partícula_m, partícula_r, g_vector)\n",
        "partícula_V"
      ]
    },
    {
      "cell_type": "markdown",
      "metadata": {
        "id": "apHdLrEEBPcc"
      },
      "source": [
        "### Lagrangiano del péndulo ideal\n",
        "Con las $T$ y $V$ previamente calculadas puede escribirse el Lagrangiano de este péndulo ideal\n",
        "$$\n",
        "\\mathcal{L}(\\varphi, \\dot{\\varphi})= T(\\dot{\\varphi}) - V(\\varphi)\n",
        "$$"
      ]
    },
    {
      "cell_type": "code",
      "execution_count": 105,
      "metadata": {
        "colab": {
          "base_uri": "https://localhost:8080/",
          "height": 54
        },
        "id": "kQvEV0jmBPcd",
        "outputId": "50e3eeaa-b7de-4d17-af7c-c0c47be645b1"
      },
      "outputs": [
        {
          "data": {
            "image/png": "[encoded data removed]",
            "text/latex": [
              "$\\displaystyle \\mathcal{L}{\\left(\\varphi,\\dot{\\varphi} \\right)} = \\frac{\\ell^{2} m \\dot{\\varphi}^{2}}{2} + \\ell g m \\cos{\\left(\\varphi \\right)}$"
            ],
            "text/plain": [
              "                                    2          2                        \n",
              "                                \\ell ⋅m⋅\\vaṙphi                         \n",
              "\\mathcal{L}(\\varphi, \\vaṙphi) = ──────────────── + \\ell⋅g⋅m⋅cos(\\varphi)\n",
              "                                       2                                "
            ]
          },
          "execution_count": 105,
          "metadata": {},
          "output_type": "execute_result"
        }
      ],
      "source": [
        "t = sm.Symbol('t') # se derivará respecto al tiempo, por tanto se lo define como símbolo\n",
        "L_ideal = sm.Eq(sm.Function('\\mathcal{L}')(phi, sm.diff(phi,t) ) , partícula_T.rhs - partícula_V.rhs ) \n",
        "L_ideal"
      ]
    },
    {
      "cell_type": "markdown",
      "metadata": {
        "id": "ODWRqo4pBPcf"
      },
      "source": [
        "### Ecuación de Euler-Lagrange del péndulo ideal\n",
        "Utilizaremos este sencillo sistema para mostrar que Euler-Lagrange permite obtener las mismas ecuaciones de la dinámica que se obtenienen con la 2.a ley de Newton.   \n",
        "\n",
        "Planteamos la ecuación de Euler-Lagrange correspondiente para la única coordenada generalizada, $\\varphi$\n",
        "$$\n",
        "\\begin{aligned}\n",
        "\\frac{\\mathrm{d}}{\\mathrm{d} t} \\frac{\\partial \\mathcal{L} }{\\partial \\dot{\\varphi} }\n",
        "- \\frac{\\partial \\mathcal{L} }{\\partial \\varphi} &\n",
        " = 0 \\\\\n",
        "\\end{aligned}.\n",
        "$$"
      ]
    },
    {
      "cell_type": "markdown",
      "metadata": {
        "id": "FGrreOO2BPcf"
      },
      "source": [
        "Empezamos calculando `phi_dtdp`\n",
        "$$\n",
        "\\frac{\\mathrm{d}}{\\mathrm{d}t} \\frac{\\partial}{\\partial \\dot{\\varphi_i}} \\mathcal{L}\n",
        "$$"
      ]
    },
    {
      "cell_type": "code",
      "execution_count": 106,
      "metadata": {
        "colab": {
          "base_uri": "https://localhost:8080/",
          "height": 38
        },
        "id": "0Olx3s8ZBPcf",
        "outputId": "b9681e75-bd54-4a0e-c628-2fc80f2f0527"
      },
      "outputs": [
        {
          "data": {
            "image/png": "[encoded data removed]",
            "text/latex": [
              "$\\displaystyle \\ell^{2} m \\ddot{\\varphi}$"
            ],
            "text/plain": [
              "    2          \n",
              "\\ell ⋅m⋅\\var̈phi"
            ]
          },
          "execution_count": 106,
          "metadata": {},
          "output_type": "execute_result"
        }
      ],
      "source": [
        "phi_dtdp = L_ideal.rhs.diff(phi.diff(t)).diff(t) # primero deriva respecto a x1 punto y luego a t\n",
        "phi_dtdp.simplify()"
      ]
    },
    {
      "cell_type": "markdown",
      "metadata": {
        "id": "N0Mb8cHPBPcg"
      },
      "source": [
        "Y luego `phi_dq`\n",
        "$$\n",
        "\\frac{\\partial}{\\partial \\varphi_i} \\mathcal{L}\n",
        "$$"
      ]
    },
    {
      "cell_type": "code",
      "execution_count": 107,
      "metadata": {
        "colab": {
          "base_uri": "https://localhost:8080/",
          "height": 38
        },
        "id": "n5GQyn_RBPcg",
        "outputId": "afa571a1-4e30-43ba-8875-887d8c59acbc"
      },
      "outputs": [
        {
          "data": {
            "image/png": "[encoded data removed]",
            "text/latex": [
              "$\\displaystyle - \\ell g m \\sin{\\left(\\varphi \\right)}$"
            ],
            "text/plain": [
              "-\\ell⋅g⋅m⋅sin(\\varphi)"
            ]
          },
          "execution_count": 107,
          "metadata": {},
          "output_type": "execute_result"
        }
      ],
      "source": [
        "phi_dq = L_ideal.rhs.diff(phi)\n",
        "phi_dq.simplify()"
      ]
    },
    {
      "cell_type": "markdown",
      "metadata": {
        "id": "99Lhlv6dBPcg"
      },
      "source": [
        "Y con estos se escribe la ecuación de Euler-Lagrange"
      ]
    },
    {
      "cell_type": "code",
      "execution_count": 108,
      "metadata": {
        "colab": {
          "base_uri": "https://localhost:8080/",
          "height": 38
        },
        "id": "0-FgJYquBPch",
        "outputId": "d2e72065-cb39-4a9e-9e2a-aacf8f49c59c"
      },
      "outputs": [
        {
          "data": {
            "image/png": "[encoded data removed]",
            "text/latex": [
              "$\\displaystyle \\ell m \\left(\\ell \\ddot{\\varphi} + g \\sin{\\left(\\varphi \\right)}\\right) = 0$"
            ],
            "text/plain": [
              "\\ell⋅m⋅(\\ell⋅\\var̈phi + g⋅sin(\\varphi)) = 0"
            ]
          },
          "execution_count": 108,
          "metadata": {},
          "output_type": "execute_result"
        }
      ],
      "source": [
        "phi_EL = sm.Eq(\n",
        "  phi_dtdp - phi_dq,\n",
        "  0\n",
        "  ).simplify()\n",
        "phi_EL"
      ]
    },
    {
      "cell_type": "markdown",
      "metadata": {
        "id": "EwQmmBRHBPch"
      },
      "source": [
        "De aquí puede despejarse"
      ]
    },
    {
      "cell_type": "code",
      "execution_count": 109,
      "metadata": {
        "colab": {
          "base_uri": "https://localhost:8080/",
          "height": 53
        },
        "id": "qYozAbf2BPch",
        "outputId": "757ba0db-8da2-4c14-e985-69fb72590578"
      },
      "outputs": [
        {
          "data": {
            "image/png": "[encoded data removed]",
            "text/latex": [
              "$\\displaystyle \\ddot{\\varphi} = - \\frac{g \\sin{\\left(\\varphi \\right)}}{\\ell}$"
            ],
            "text/plain": [
              "          -g⋅sin(\\varphi) \n",
              "\\var̈phi = ────────────────\n",
              "                \\ell      "
            ]
          },
          "execution_count": 109,
          "metadata": {},
          "output_type": "execute_result"
        }
      ],
      "source": [
        "variable = phi.diff(t,2) # diff(t,2): derivada segunda respecto al tiempo\n",
        "sm.Eq(\n",
        "  variable,\n",
        "  sm.solveset(phi_EL, phi.diff(t,2) ).args[0]\n",
        "  )"
      ]
    },
    {
      "cell_type": "markdown",
      "metadata": {
        "id": "vvHy7cUSBPci"
      },
      "source": [
        "## Péndulo con punto de suspensión libre\n",
        ">Ejercicio 2 sección 5 ($\\S 5$) de  \n",
        "Lev Davidovich Landau, y E. M. Lifshitz. Mecánica. 2.a. Curso de física teórica. Reverté, 1994.\n",
        "\n",
        "![](figuras/landauS52_fig2.png \"Figura 2 del libro de Landau.\")  "
      ]
    },
    {
      "cell_type": "code",
      "execution_count": 110,
      "metadata": {
        "id": "WY_k7TYNBPck"
      },
      "outputs": [],
      "source": [
        "# Defino los parámetros físicos del sistema\n",
        "m1, m2, g, l = sm.symbols('m_1, m_2, g, \\ell', positive=True)\n",
        "\n",
        "# Defino coordenadas generalizadas \n",
        "t = sm.symbols('t') # tiempo\n",
        "x, phi = me.dynamicsymbols('x, varphi')\n",
        "\n",
        "# posiciones\n",
        "partícula1_r = x* e.x\n",
        "partícula2_r = partícula1_r + l* (sm.cos(phi)* (-e.y) + sm.sin(phi)* (e.x)) # recordemos que tomamos y hacia arriba\n",
        "\n",
        "# masas\n",
        "partícula1_m = m1\n",
        "partícula2_m = m2"
      ]
    },
    {
      "cell_type": "code",
      "execution_count": 111,
      "metadata": {
        "colab": {
          "base_uri": "https://localhost:8080/",
          "height": 66
        },
        "id": "J7Vz2XLBBPck",
        "outputId": "5c27c04d-5905-479d-a042-a97a1223b7bc",
        "tags": []
      },
      "outputs": [
        {
          "data": {
            "image/png": "[encoded data removed]",
            "text/latex": [
              "$\\displaystyle T_{traslación} = \\frac{m_{1} \\dot{x}^{2}}{2} + \\frac{m_{2} \\left(\\ell^{2} \\dot{\\varphi}^{2} + 2 \\ell \\cos{\\left(\\varphi \\right)} \\dot{\\varphi} \\dot{x} + \\dot{x}^{2}\\right)}{2}$"
            ],
            "text/plain": [
              "                     2      ⎛    2       2                                  2⎞\n",
              "                 m₁⋅ẋ    m₂⋅⎝\\ell ⋅varṗhi  + 2⋅\\ell⋅cos(varphi)⋅varṗhi⋅ẋ + ẋ ⎠\n",
              "T_{traslación} = ───── + ─────────────────────────────────────────────────────\n",
              "                   2                               2                          "
            ]
          },
          "execution_count": 111,
          "metadata": {},
          "output_type": "execute_result"
        }
      ],
      "source": [
        "# Energía cinética del sistema\n",
        "partícula1_T = energíaCinéticaTraslación(partícula1_m, partícula1_r, e)\n",
        "partícula2_T = energíaCinéticaTraslación(partícula2_m, partícula2_r, e)\n",
        "libre_T = sm.Eq(\n",
        "  partícula1_T.lhs,\n",
        "  partícula1_T.rhs + partícula2_T.rhs\n",
        "  ).simplify()\n",
        "libre_T"
      ]
    },
    {
      "cell_type": "code",
      "execution_count": 112,
      "metadata": {
        "colab": {
          "base_uri": "https://localhost:8080/",
          "height": 38
        },
        "id": "U2Je7ueZBPcl",
        "outputId": "df41d7d2-5d3a-4c99-d0c7-d5a1b8357ac0"
      },
      "outputs": [
        {
          "data": {
            "image/png": "[encoded data removed]",
            "text/latex": [
              "$\\displaystyle V_{gravitatoria} = - \\ell g m_{2} \\cos{\\left(\\varphi \\right)}$"
            ],
            "text/plain": [
              "V_{gravitatoria} = -\\ell⋅g⋅m₂⋅cos(varphi)"
            ]
          },
          "execution_count": 112,
          "metadata": {},
          "output_type": "execute_result"
        }
      ],
      "source": [
        "# Energía potencial\n",
        "g_vector = g* (-e.y) # aceleración gravitatoria en -y versor\n",
        "partícula1_V = energíaPotencialGravitatoria(partícula1_m, partícula1_r, g_vector)\n",
        "partícula2_V = energíaPotencialGravitatoria(partícula2_m, partícula2_r, g_vector)\n",
        "libre_V = sm.Eq(\n",
        "  partícula2_V.lhs,\n",
        "  partícula1_V.rhs + partícula2_V.rhs \n",
        "  ).simplify()\n",
        "libre_V"
      ]
    },
    {
      "cell_type": "markdown",
      "metadata": {
        "id": "GosbtiUfBPcl"
      },
      "source": [
        "### Lagrangiano"
      ]
    },
    {
      "cell_type": "markdown",
      "metadata": {
        "id": "AmYi3bPCBPcl"
      },
      "source": [
        "Con $T$ y $V$ finalmente expresamos\n",
        "$$\n",
        "\\mathcal{L} (\\dot{x}, \\varphi, \\dot{\\varphi})=\n",
        "T(\\dot{x}, \\varphi, \\dot{\\varphi}) - V(\\varphi).\n",
        "$$"
      ]
    },
    {
      "cell_type": "code",
      "execution_count": 113,
      "metadata": {
        "colab": {
          "base_uri": "https://localhost:8080/",
          "height": 66
        },
        "id": "o1FWdMdXBPcl",
        "outputId": "c52fe680-42d3-42bb-b562-3236d1528683"
      },
      "outputs": [
        {
          "data": {
            "image/png": "[encoded data removed]",
            "text/latex": [
              "$\\displaystyle \\mathcal{L}{\\left(\\dot{x},\\varphi,\\dot{\\varphi} \\right)} = \\ell g m_{2} \\cos{\\left(\\varphi \\right)} + \\frac{m_{1} \\dot{x}^{2}}{2} + \\frac{m_{2} \\left(\\ell^{2} \\dot{\\varphi}^{2} + 2 \\ell \\cos{\\left(\\varphi \\right)} \\dot{\\varphi} \\dot{x} + \\dot{x}^{2}\\right)}{2}$"
            ],
            "text/plain": [
              "                                                             2      ⎛    2     ↪\n",
              "                                                         m₁⋅ẋ    m₂⋅⎝\\ell ⋅var ↪\n",
              "\\mathcal{L}(ẋ, varphi, varṗhi) = \\ell⋅g⋅m₂⋅cos(varphi) + ───── + ───────────── ↪\n",
              "                                                           2                   ↪\n",
              "\n",
              "↪    2                                  2⎞\n",
              "↪ ṗhi  + 2⋅\\ell⋅cos(varphi)⋅varṗhi⋅ẋ + ẋ ⎠\n",
              "↪ ────────────────────────────────────────\n",
              "↪              2                          "
            ]
          },
          "execution_count": 113,
          "metadata": {},
          "output_type": "execute_result"
        }
      ],
      "source": [
        "libre_L = sm.Eq(\n",
        "  sm.Function('\\mathcal{L}')(x.diff(t), phi, phi.diff(t) ),\n",
        "  libre_T.rhs - libre_V.rhs\n",
        "  ).simplify()\n",
        "libre_L"
      ]
    },
    {
      "cell_type": "markdown",
      "metadata": {
        "id": "yu7W2rc_BPcl"
      },
      "source": [
        "### Ecuaciones de Euler-Lagrange"
      ]
    },
    {
      "cell_type": "markdown",
      "metadata": {
        "id": "sNpOtn1ABPcl"
      },
      "source": [
        "En el sistema tenemos dos grados de libertad que describimos con las coordenadas generalizadas $x_1$ y $\\varphi$.\n",
        "Deben obtenerse sendas ecuaciones de Euler-Lagrange.\n",
        "\n",
        "La de $x$ será\n",
        "$$\n",
        "\\frac{\\mathrm{d}}{\\mathrm{d} t} \\frac{\\partial \\mathcal{L} }{\\partial \\dot{x}} \n",
        "- \\frac{\\partial \\mathcal{L} }{\\partial x} \n",
        "= 0\n",
        "$$\n"
      ]
    },
    {
      "cell_type": "markdown",
      "metadata": {
        "id": "6jZmuorWBPcn"
      },
      "source": [
        "\n",
        "La parte izquierda es sencilla porque $x$ no figura en el Lagrangiano entonces\n",
        "$$\n",
        "\\frac{\\partial \\mathcal{L} }{\\partial x} = 0.\n",
        "$$\n",
        "\n",
        "La parte derecha la resolvemos en dos pasos. Primero la derivada parcial respecto a la coordenada generalizada\n",
        "$$\n",
        "\\frac{\\partial \\mathcal{L} }{\\partial \\dot{x}} =\n",
        "(m_1 + m_2) \\dot{x} + m_2 \\ell \\cos{(\\varphi)} \\dot{\\varphi}.\n",
        "$$\n",
        "\n",
        "Y esto a su vez le aplicamos la derivada total respecto a $t$\n",
        "$$\n",
        "\\frac{\\mathrm{d}}{\\mathrm{d} t} \\frac{\\partial \\mathcal{L} }{\\partial \\dot{x}} =\n",
        "(m_1 + m_2) \\ddot{x} + m_2 \\ell ( - \\sin{(\\varphi)} \\dot{\\varphi}^2 +  \\cos{(\\varphi)} \\ddot{\\varphi} ).\n",
        "$$\n",
        "\n",
        "Juntando ambas partes tenemos\n",
        "\n",
        "$$\n",
        "\\begin{aligned}\n",
        "\\frac{\\mathrm{d}}{\\mathrm{d} t} \\frac{\\partial \\mathcal{L} }{\\partial \\dot{x} }\n",
        "- \\frac{\\partial \\mathcal{L} }{\\partial x} \n",
        "& = 0 \\\\\n",
        "\\left[ (m_1 + m_2) \\ddot{x} + m_2 \\ell ( - \\sin{(\\varphi)} \\dot{\\varphi}^2 +  \\cos{(\\varphi)} \\ddot{\\varphi} ) \\right]\n",
        "- 0 & = 0\\\\\n",
        "m_1 \\ddot{x} + m_2 ( - \\ell \\sin{(\\varphi)} \\dot{\\varphi}^2 +  \\ell \\cos{(\\varphi)} \\ddot{\\varphi} + \\ddot{x} ) & = 0.\n",
        "\\end{aligned}\n",
        "$$"
      ]
    },
    {
      "cell_type": "code",
      "execution_count": 114,
      "metadata": {
        "colab": {
          "base_uri": "https://localhost:8080/",
          "height": 48
        },
        "id": "dFkjCVMfBPcn",
        "outputId": "a834cea6-1dc5-44a8-c4c2-1b34c2382bab"
      },
      "outputs": [
        {
          "data": {
            "image/png": "[encoded data removed]",
            "text/latex": [
              "$\\displaystyle m_{1} \\ddot{x} + m_{2} \\left(- \\ell \\sin{\\left(\\varphi \\right)} \\dot{\\varphi}^{2} + \\ell \\cos{\\left(\\varphi \\right)} \\ddot{\\varphi} + \\ddot{x}\\right) = 0$"
            ],
            "text/plain": [
              "          ⎛                         2                              ⎞    \n",
              "m₁⋅ẍ + m₂⋅⎝- \\ell⋅sin(varphi)⋅varṗhi  + \\ell⋅cos(varphi)⋅varp̈hi + ẍ⎠ = 0"
            ]
          },
          "execution_count": 114,
          "metadata": {},
          "output_type": "execute_result"
        }
      ],
      "source": [
        "x_libre_EL = sm.Eq(\n",
        "  libre_L.rhs.diff(x.diff(t) ).diff(t) - libre_L.rhs.diff(x),\n",
        "  0\n",
        "  ).simplify()\n",
        "x_libre_EL"
      ]
    },
    {
      "cell_type": "markdown",
      "metadata": {
        "id": "fKHkyNEtBPcn"
      },
      "source": [
        "Para $\\varphi$ la expresión es un poco más compleja\n",
        "\n",
        "$$\n",
        "\\begin{aligned}\n",
        "\\frac{\\mathrm{d}}{\\mathrm{d} t} \\frac{\\partial \\mathcal{L} }{\\partial \\dot{\\varphi}} \n",
        "& - \\frac{\\partial \\mathcal{L} }{\\partial \\varphi}\n",
        "= 0 \\\\\n",
        "\\frac{\\mathrm{d}}{\\mathrm{d} t} \\left[ \n",
        "   m_2 \\ell^2 \\dot{\\varphi}\n",
        " + m_2 \\dot{x} \\ell \\cos{\\varphi} \n",
        " \\right]\n",
        "& \n",
        "- \\left[m_2 g \\ell (-\\sin{\\varphi}) + m_2 \\dot{x} \\ell (-\\sin{\\varphi}) \\dot{\\varphi} \\right]\n",
        " =0 \\\\\n",
        " m_2 \\left[ \n",
        "     \\ell^2 \\ddot{\\varphi}\n",
        "  + \\dot{x} \\ell (-\\sin{\\varphi}) \\dot{\\varphi}\n",
        "  + \\ddot{x} \\ell \\cos{\\varphi}\n",
        " \\right] \n",
        " & -\n",
        " (-\\sin{\\varphi}) \\left[ m_2 g \\ell + m_2 \\dot{x} \\ell \\dot{\\varphi} \\right]\n",
        " = 0\n",
        "\\end{aligned}.\n",
        "$$"
      ]
    },
    {
      "cell_type": "code",
      "execution_count": 115,
      "metadata": {
        "colab": {
          "base_uri": "https://localhost:8080/",
          "height": 66
        },
        "id": "F0fThqKKBPcn",
        "outputId": "48418b60-3794-4cdc-fc03-2757ce5945b0"
      },
      "outputs": [
        {
          "data": {
            "image/png": "[encoded data removed]",
            "text/latex": [
              "$\\displaystyle \\ell g m_{2} \\sin{\\left(\\varphi \\right)} + \\ell m_{2} \\sin{\\left(\\varphi \\right)} \\dot{\\varphi} \\dot{x} + \\frac{m_{2} \\left(2 \\ell^{2} \\ddot{\\varphi} - 2 \\ell \\sin{\\left(\\varphi \\right)} \\dot{\\varphi} \\dot{x} + 2 \\ell \\cos{\\left(\\varphi \\right)} \\ddot{x}\\right)}{2} = 0$"
            ],
            "text/plain": [
              "                                                          ⎛      2             ↪\n",
              "                                                       m₂⋅⎝2⋅\\ell ⋅varp̈hi - 2⋅ ↪\n",
              "\\ell⋅g⋅m₂⋅sin(varphi) + \\ell⋅m₂⋅sin(varphi)⋅varṗhi⋅ẋ + ─────────────────────── ↪\n",
              "                                                                               ↪\n",
              "\n",
              "↪                                                 ⎞    \n",
              "↪ \\ell⋅sin(varphi)⋅varṗhi⋅ẋ + 2⋅\\ell⋅cos(varphi)⋅ẍ⎠    \n",
              "↪ ───────────────────────────────────────────────── = 0\n",
              "↪             2                                        "
            ]
          },
          "execution_count": 115,
          "metadata": {},
          "output_type": "execute_result"
        }
      ],
      "source": [
        "phi_libre_EL = sm.Eq(\n",
        "  libre_L.rhs.diff(phi.diff(t) ).diff(t)\n",
        "  - libre_L.rhs.diff(phi) ,\n",
        "  0\n",
        "  )\n",
        "phi_libre_EL"
      ]
    },
    {
      "cell_type": "markdown",
      "metadata": {
        "id": "BzmCpUgvBPcn"
      },
      "source": [
        "Esto puede simplificarse"
      ]
    },
    {
      "cell_type": "code",
      "execution_count": 116,
      "metadata": {
        "colab": {
          "base_uri": "https://localhost:8080/",
          "height": 48
        },
        "id": "X_mCSt0PBPcn",
        "outputId": "4bb63139-a740-40bf-8214-928dcb373ea4"
      },
      "outputs": [
        {
          "data": {
            "image/png": "[encoded data removed]",
            "text/latex": [
              "$\\displaystyle \\ell m_{2} \\left(\\ell \\ddot{\\varphi} + g \\sin{\\left(\\varphi \\right)} + \\cos{\\left(\\varphi \\right)} \\ddot{x}\\right) = 0$"
            ],
            "text/plain": [
              "\\ell⋅m₂⋅(\\ell⋅varp̈hi + g⋅sin(varphi) + cos(varphi)⋅ẍ) = 0"
            ]
          },
          "execution_count": 116,
          "metadata": {},
          "output_type": "execute_result"
        }
      ],
      "source": [
        "phi_libre_EL.simplify()"
      ]
    },
    {
      "cell_type": "markdown",
      "metadata": {
        "id": "zJjFSqSvBPcn"
      },
      "source": [
        "Resolver la dinámica de las ecuaciones de Euler-Lagrange acopladas ($\\ddot{x}$ figura en ambas) es algo que haremos más adelante en el curso cuando hagamos simulaciones numéricas con la computadora."
      ]
    },
    {
      "cell_type": "markdown",
      "metadata": {
        "id": "6YDLLvOVBPco"
      },
      "source": [
        "### Recuperando el péndulo ideal"
      ]
    },
    {
      "cell_type": "markdown",
      "metadata": {
        "id": "eb0F43TGBPco"
      },
      "source": [
        "Podemos recuperar el caso del péndulo rígido ideal a partir del péndulo de suspensión libre si \"inmovilizamos\" $m_1$ estableciendo $x \\equiv 0$ y por tanto $\\dot{x} = 0$.\n",
        "\n",
        "En el Lagrangiano"
      ]
    },
    {
      "cell_type": "code",
      "execution_count": 117,
      "metadata": {
        "colab": {
          "base_uri": "https://localhost:8080/",
          "height": 56
        },
        "id": "2DedUgY-BPco",
        "outputId": "e83d8bd1-e5a1-4c37-de69-3a6ff45add65"
      },
      "outputs": [
        {
          "data": {
            "image/png": "[encoded data removed]",
            "text/latex": [
              "$\\displaystyle \\mathcal{L}{\\left(0,\\varphi,\\dot{\\varphi} \\right)} = \\frac{\\ell^{2} m_{2} \\dot{\\varphi}^{2}}{2} + \\ell g m_{2} \\cos{\\left(\\varphi \\right)}$"
            ],
            "text/plain": [
              "                                     2          2                        \n",
              "                                 \\ell ⋅m₂⋅varṗhi                         \n",
              "\\mathcal{L}(0, varphi, varṗhi) = ──────────────── + \\ell⋅g⋅m₂⋅cos(varphi)\n",
              "                                        2                                "
            ]
          },
          "execution_count": 117,
          "metadata": {},
          "output_type": "execute_result"
        }
      ],
      "source": [
        "substituciones = {\n",
        "    x : 0,\n",
        "    x.diff(t) : 0,\n",
        "} # esto en Python se denomina diccionario\n",
        "libre_L.subs(substituciones)"
      ]
    },
    {
      "cell_type": "markdown",
      "metadata": {
        "id": "qWltnGbhBPco"
      },
      "source": [
        "que es el del péndulo ideal. \n",
        "\n",
        "Lo mismo puede hacerse en la ecuación de Euler-Lagrange para $\\varphi$"
      ]
    },
    {
      "cell_type": "code",
      "execution_count": 118,
      "metadata": {
        "colab": {
          "base_uri": "https://localhost:8080/",
          "height": 48
        },
        "id": "jcZLfRwHBPcp",
        "outputId": "426b698a-2293-4446-a0c0-ce544f14803c"
      },
      "outputs": [
        {
          "data": {
            "image/png": "[encoded data removed]",
            "text/latex": [
              "$\\displaystyle \\ell m_{2} \\left(\\ell \\ddot{\\varphi} + g \\sin{\\left(\\varphi \\right)}\\right) = 0$"
            ],
            "text/plain": [
              "\\ell⋅m₂⋅(\\ell⋅varp̈hi + g⋅sin(varphi)) = 0"
            ]
          },
          "execution_count": 118,
          "metadata": {},
          "output_type": "execute_result"
        }
      ],
      "source": [
        "phi_libre_EL_subs = phi_libre_EL.subs(substituciones).simplify()\n",
        "phi_libre_EL_subs"
      ]
    },
    {
      "cell_type": "markdown",
      "metadata": {
        "id": "tCK4d-v4BPcp"
      },
      "source": [
        "donde entre paréntesis figura la ecuación de la dinámica para el péndulo ideal de la que puede despejarse"
      ]
    },
    {
      "cell_type": "code",
      "execution_count": 119,
      "metadata": {
        "colab": {
          "base_uri": "https://localhost:8080/",
          "height": 53
        },
        "id": "ZrczzbxKBPcq",
        "outputId": "2deca174-0a6c-4bf6-c067-a02056ecdc44",
        "tags": []
      },
      "outputs": [
        {
          "data": {
            "image/png": "[encoded data removed]",
            "text/latex": [
              "$\\displaystyle \\ddot{\\varphi} = - \\frac{g \\sin{\\left(\\varphi \\right)}}{\\ell}$"
            ],
            "text/plain": [
              "         -g⋅sin(varphi) \n",
              "varp̈hi = ───────────────\n",
              "              \\ell      "
            ]
          },
          "execution_count": 119,
          "metadata": {},
          "output_type": "execute_result"
        }
      ],
      "source": [
        "variable = phi.diff(t,2)\n",
        "sm.Eq(\n",
        "  variable,\n",
        "  sm.solveset(phi_libre_EL_subs, phi.diff(t,2) ).args[0]\n",
        "  )"
      ]
    },
    {
      "cell_type": "markdown",
      "metadata": {
        "id": "TxkUM81lCLxN"
      },
      "source": [
        "## Función que genera Euler-Lagrange"
      ]
    },
    {
      "cell_type": "markdown",
      "metadata": {
        "id": "yl16jzvRCf2N"
      },
      "source": [
        "Así como se hizo para las energías cinética y potencial se puede escribir una función en Python para que calcule una ecuación de Euler-Lagrange."
      ]
    },
    {
      "cell_type": "code",
      "execution_count": 120,
      "metadata": {
        "id": "nX9106onCa_5"
      },
      "outputs": [],
      "source": [
        "def eulerLagrange(T, V, coordenadaGeneralizada):\n",
        "    '''    \n",
        "    Esta función devuelve la ecuación de Euler-Lagrange para una coordenada generalizada a partir de las energías del sistema.\n",
        "    \n",
        "    Parámetros\n",
        "    ----------\n",
        "    T : Igualdad Sympy (sympy.core.relational.Equality)\n",
        "        En su lado derecho explicita la energía cinética del sistema en función de coordenadas y velocidades generalizadas y el tiempo.\n",
        "    V : Igualdad Sympy (sympy.core.relational.Equality)\n",
        "        En su lado derecho explicita la energía potencial del sistema en función de coordenadas y velocidades generalizadas y el tiempo.\n",
        "    coordenadaGeneralizada: Símbolo Sympy (sympy.core.symbol.Symbol)\n",
        "        Para la que quiere obtenerse la ecuación de Euler-Lagrange\n",
        "        \n",
        "    Retorna\n",
        "    -------\n",
        "    Igualdad Sympy (sympy.core.relational.Equality)\n",
        "        Ecuación de Euler-Lagrange homogénea para la coordenadaGeneralizada\n",
        "    '''\n",
        "    lagrangiano = (T.rhs - V.rhs).expand()\n",
        "    t = sm.Symbol('t') # como se deriva respecto al tiempo con la función diff se declara t como símbolo \n",
        "    return sm.Eq(\n",
        "        lagrangiano.diff(coordenadaGeneralizada.diff(t)).diff(t)\n",
        "        - lagrangiano.diff(coordenadaGeneralizada) \n",
        "        , 0\n",
        "    ).simplify()"
      ]
    },
    {
      "cell_type": "markdown",
      "metadata": {
        "id": "U_8TPb2iC_R7"
      },
      "source": [
        "Esta función debe utilizarse para cada una de las coordenadas generalizadas.\n",
        "\n",
        "En el caso del péndulo con punto de suspensión libre se hizo uso de dos: $x, \\varphi$, por lo que habrá que utilizar esta función dos veces. "
      ]
    },
    {
      "cell_type": "code",
      "execution_count": 121,
      "metadata": {
        "colab": {
          "base_uri": "https://localhost:8080/",
          "height": 39
        },
        "id": "eL9WAiOADlkQ",
        "outputId": "788ca46e-78af-4ba9-c52b-1258d0cf521e"
      },
      "outputs": [
        {
          "data": {
            "image/png": "[encoded data removed]",
            "text/latex": [
              "$\\displaystyle - \\ell m_{2} \\sin{\\left(\\varphi \\right)} \\dot{\\varphi}^{2} + \\ell m_{2} \\cos{\\left(\\varphi \\right)} \\ddot{\\varphi} + m_{1} \\ddot{x} + m_{2} \\ddot{x} = 0$"
            ],
            "text/plain": [
              "                            2                                               \n",
              "- \\ell⋅m₂⋅sin(varphi)⋅varṗhi  + \\ell⋅m₂⋅cos(varphi)⋅varp̈hi + m₁⋅ẍ + m₂⋅ẍ = 0"
            ]
          },
          "execution_count": 121,
          "metadata": {},
          "output_type": "execute_result"
        }
      ],
      "source": [
        "x_EL = eulerLagrange(libre_T, libre_V, x)\n",
        "phi_EL = eulerLagrange(libre_T, libre_V, phi)\n",
        "x_EL"
      ]
    },
    {
      "cell_type": "markdown",
      "metadata": {
        "id": "KocU_6VpENZA"
      },
      "source": [
        "Esta es igual a la obtenida manualmente para la coordenada $x$."
      ]
    },
    {
      "cell_type": "code",
      "execution_count": 122,
      "metadata": {
        "colab": {
          "base_uri": "https://localhost:8080/",
          "height": 48
        },
        "id": "-dAojvqiEM2h",
        "outputId": "e7c87f94-8631-436a-af0f-0dae02929a41"
      },
      "outputs": [
        {
          "data": {
            "image/png": "[encoded data removed]",
            "text/latex": [
              "$\\displaystyle \\ell m_{2} \\left(\\ell \\ddot{\\varphi} + g \\sin{\\left(\\varphi \\right)} + \\cos{\\left(\\varphi \\right)} \\ddot{x}\\right) = 0$"
            ],
            "text/plain": [
              "\\ell⋅m₂⋅(\\ell⋅varp̈hi + g⋅sin(varphi) + cos(varphi)⋅ẍ) = 0"
            ]
          },
          "execution_count": 122,
          "metadata": {},
          "output_type": "execute_result"
        }
      ],
      "source": [
        "phi_EL"
      ]
    },
    {
      "cell_type": "markdown",
      "metadata": {
        "id": "CBPPYKvfEUd4"
      },
      "source": [
        "Y lo mismo para $\\varphi$.\n",
        "\n",
        "Es notorio que no se requirió calcular el Lagrangiano, de eso se ocupa la función."
      ]
    }
  ],
  "metadata": {
    "colab": {
      "provenance": [],
      "toc_visible": true
    },
    "kernelspec": {
      "display_name": "Python 3 (ipykernel)",
      "language": "python",
      "name": "python3"
    },
    "language_info": {
      "codemirror_mode": {
        "name": "ipython",
        "version": 3
      },
      "file_extension": ".py",
      "mimetype": "text/x-python",
      "name": "python",
      "nbconvert_exporter": "python",
      "pygments_lexer": "ipython3",
      "version": "3.11.2"
    }
  },
  "nbformat": 4,
  "nbformat_minor": 0
}
