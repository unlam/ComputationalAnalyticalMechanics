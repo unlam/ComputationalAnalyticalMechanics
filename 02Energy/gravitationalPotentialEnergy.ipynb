{
 "cells": [
  {
   "cell_type": "markdown",
   "metadata": {
    "id": "ZCEU8Zz7U-zB"
   },
   "source": [
    "# Pendulum with free point of support"
   ]
  },
  {
   "cell_type": "markdown",
   "metadata": {
    "id": "D1C0yZ72U-zC"
   },
   "source": [
    "[![DIIT - UNLaM](data:image/png;base64,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)](https://ingenieria.unlam.edu.ar/)    \n",
    "[![by-nc-sa_80x15.png](data:image/png;base64,iVBORw0KGgoAAAANSUhEUgAAAFAAAAAPCAMAAABEF7i9AAAABGdBTUEAANbY1E9YMgAAAJZQTFRF////7u7u3d3dys7KzMzMyMzIxsrGxcbFur+6u7u7s7iyq7GqqqqqmZmZlJmTj5CPiIiIh4eHhoaGgICAfYJ9d3d3cnZxZ2tnZmZmW15bVVVVS0xLREREQ0NDQkJCQUJBOz07OTs5MzMzMTMxLjAuJygnJCUjIiIiISEhICAgGRkZERERDxAPDg4ODQ4NDQ0NDQ0MAAAADbeuvgAAAOhJREFUeNqtk+tyAiEMhQ+6XtroutZiveBdu+p2tXn/l3OQy8roL5fMMENC+HIIAI5sYEQ1DSRtP5zZkCpToubf2/oMMC0zX0QdiLqjmsD1sVKd8JSoNa8HvGRIclZCcZ5A7Yiag/s6oJPMYD8FKgIC3wG/+QP5DFIWot+DvBB1OxYAk+W2W88HqqwAOOZE6FuZbfWZZUn02fb1rTAHc3izZgQCrxWqSSFkH/IaKuSHEzEChfyk2PbwmqFX8EQo3jaw2Ac9DIFhD12Tn4CbU+RbTv+HHrj8jfAOacxflrc61/0psf9yZLsBr5WUrhUa3hEAAAAASUVORK5CYII=)](https://creativecommons.org/licenses/by-sa/4.0/) \n",
    "2025 [Víctor A. Bettachini](mailto:vbettachini@unlam.edu.ar)  \n",
    "\n",
    "---"
   ]
  },
  {
   "cell_type": "markdown",
   "metadata": {},
   "source": [
    "## Pendulum with free support, again\n",
    "\n",
    "We reproduce the same problem, but this time we engage in a broader discussion about how many coordinates are required to describe this system, before solving it."
   ]
  },
  {
   "cell_type": "markdown",
   "metadata": {},
   "source": [
    "## Problem"
   ]
  },
  {
   "cell_type": "markdown",
   "metadata": {},
   "source": [
    "> Bibliography:\n",
    ">- Section 5 ($\\S 5$) Exercise 2  \n",
    "Mechanics  \n",
    "Lev Davidovich Landau and E. M. Lifshitz  \n",
    "Institute of physical problems, USSR Academy of Sciences, 1976"
   ]
  },
  {
   "cell_type": "markdown",
   "metadata": {},
   "source": [
    "A particle with mass $m_2$ is hanging from a rigid bar of length $\\ell$ and negligible mass. On the other end there is a device with mass $m_1$ linked to a horizontal bar, and it's free to move horizontally along the $x$ axis. The device allows the hanging bar to span any angle $\\varphi$ respect to the vertical axis. \n",
    "\n",
    "1. Write expressions for kinetic energy, $T$ and potential, $V$, as functions of the generalized coordinates suggested by the figure.\n",
    "1. Verify that if you fix the position of mass $m_1$ you recover the expressions of $T$ and $V$ of an ideal pendulum."
   ]
  },
  {
   "cell_type": "markdown",
   "metadata": {
    "id": "JQYDCh91U-zH"
   },
   "source": [
    "![old_landauS52_fig2.png](data:image/png;base64,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)"
   ]
  },
  {
   "cell_type": "markdown",
   "metadata": {
    "id": "kuqc8vWJ-_9E"
   },
   "source": [
    "## Generalized coordinates\n",
    "> Reference:  \n",
    "> Section 1 ($\\S 1$) \"Generalized coordinates\"  \n",
    "Mechanics    \n",
    "Lev Davidovich Landau and E. M. Lifshitz    \n",
    "Institute of physical problems, USSR Academy of Sciences, 1976"
   ]
  },
  {
   "cell_type": "markdown",
   "metadata": {
    "id": "TXmmI04rU-zI"
   },
   "source": [
    "### Generalized coordinates for this system\n",
    "This system of $P=2$ particles, with masses $m_1$ and $m_2$, should have its 3 **degrees of freedom** in a 3D world.\n",
    "The description of the dynamics oof this system would require $3P= 6$ coordinates for the positions and also $3P$ velocities.\n",
    "\n",
    "But we are imposing **restrictions that remove degrees of freedom** to this particles:\n",
    "1. Movement is restricted to a plane $\\rightarrow$ two restrictions.\n",
    "2. Particle $1$ is linked to a horizontal bar $\\rightarrow$ one restriction.\n",
    "3. Particle $2$ is always at distance $\\ell$ from $1$ $\\rightarrow$ another restriction.\n",
    "\n",
    "A total of $K=4$ restrictions, that reduce the number of degrees of freedom to $3P-K= 2$.\n",
    "That means we only need $2$ generalized coordinates (and their corresponding derivatives respect to time) to describe the dynamics of this system.\n",
    "\n",
    "The expression $$\\boxed{3P-K}$$ allows us to obtain the number of generalized coordinates that are required to model a system.  "
   ]
  },
  {
   "cell_type": "markdown",
   "metadata": {
    "id": "XI8BJqu_-_9G"
   },
   "source": [
    "### Notation\n",
    "To describe the $N$ degrees of freedom we will use $q_1, q_2,\\dots,q_N$ **generalized coordinates**.\n",
    "- They are not necessarily the coordinates in a system, e.g. $(\\rho,\\varphi, \\theta)$ in the spherical.\n",
    "- They can be any magnitude that allows us to determine positions, e.g. a coordinate in the Cartesian system can be a function of these $x_1= f(q_1, q_2,\\dots,q_N)$.\n",
    "\n",
    "We know that to describe the dynamics of a system, the positions are not enough and we also need the velocities.\n",
    "\n",
    "So we'll also be interested in the **generalized velocities**: $\\dot{q}_1, \\dot{q}_2,\\dots,\\dot{q}_N$."
   ]
  },
  {
   "cell_type": "markdown",
   "metadata": {
    "id": "bTFKs4KD-_9R"
   },
   "source": [
    "## Solution"
   ]
  },
  {
   "cell_type": "markdown",
   "metadata": {
    "id": "gOGzBLuWMoGL"
   },
   "source": [
    "We copy all the steps below, even those already written before, so that you can \"copy and paste\" the following for the resolution of any exercise."
   ]
  },
  {
   "cell_type": "code",
   "execution_count": 4,
   "metadata": {
    "id": "ICTnZ6r--_9T"
   },
   "outputs": [],
   "source": [
    "import sympy as sym # import functions for symbolic manipulations\n",
    "from sympy.physics import mechanics as mech # from sympy we use functions for mechanics\n",
    "mech.init_vprinting() # dot notation for velocity and acceleration"
   ]
  },
  {
   "cell_type": "code",
   "execution_count": 5,
   "metadata": {
    "id": "g5E6S0xR-_9U"
   },
   "outputs": [],
   "source": [
    "# frame of reference\n",
    "e = mech.ReferenceFrame('e') # Cartesian frame of reference"
   ]
  },
  {
   "cell_type": "code",
   "execution_count": 6,
   "metadata": {},
   "outputs": [],
   "source": [
    "# Parameters for this system\n",
    "g, m1, m2, l = sym.symbols('g, m_1, m_2, \\ell', positive=True)"
   ]
  },
  {
   "cell_type": "markdown",
   "metadata": {},
   "source": [
    "### Positions"
   ]
  },
  {
   "cell_type": "code",
   "execution_count": 7,
   "metadata": {
    "colab": {
     "base_uri": "https://localhost:8080/",
     "height": 38
    },
    "id": "uoEs93vM-_9X",
    "outputId": "f4befb96-3643-455d-f9fc-50003c4fa82f"
   },
   "outputs": [
    {
     "data": {
      "image/png": "[encoded data removed]",
      "text/latex": [
       "$\\displaystyle x\\mathbf{\\hat{e}_x}$"
      ],
      "text/plain": [
       "x e_x"
      ]
     },
     "execution_count": 7,
     "metadata": {},
     "output_type": "execute_result"
    }
   ],
   "source": [
    "# position of particle 1\n",
    "x = mech.dynamicsymbols('x') # x changes with time, thus it is a dynamic variable\n",
    "m1_r = x* e.x # position of particle of mass m1\n",
    "m1_r"
   ]
  },
  {
   "cell_type": "code",
   "execution_count": 8,
   "metadata": {
    "colab": {
     "base_uri": "https://localhost:8080/",
     "height": 38
    },
    "id": "XnpO4ljSU-zQ",
    "outputId": "6b51e889-1fad-4710-f164-1d0536b6c300"
   },
   "outputs": [
    {
     "data": {
      "image/png": "[encoded data removed]",
      "text/latex": [
       "$\\displaystyle (\\ell \\sin{\\left(\\phi \\right)} + x)\\mathbf{\\hat{e}_x} -  \\ell \\cos{\\left(\\phi \\right)}\\mathbf{\\hat{e}_y}$"
      ],
      "text/plain": [
       "(\\ell⋅sin(φ) + x) e_x + -\\ell⋅cos(φ) e_y"
      ]
     },
     "execution_count": 8,
     "metadata": {},
     "output_type": "execute_result"
    }
   ],
   "source": [
    "# position of second particle\n",
    "phi = mech.dynamicsymbols('phi')\n",
    "m2_r = m1_r + l*( sym.sin(phi)* e.x + sym.cos(phi)* (-e.y) )  # y unit vector points upward\n",
    "m2_r"
   ]
  },
  {
   "cell_type": "markdown",
   "metadata": {},
   "source": [
    "### Translational kinetic energy"
   ]
  },
  {
   "cell_type": "code",
   "execution_count": 9,
   "metadata": {},
   "outputs": [],
   "source": [
    "def translationalKineticEnergy(mass, position, frameOfReference):\n",
    "    \"\"\"\n",
    "    From mass and position of a point particle in a frame of reference, it returns its kinetic energy.\n",
    "    \n",
    "    Parameters\n",
    "    ----------\n",
    "    mass: (sympy.core.symbol.Symbol)\n",
    "        of a particle\n",
    "    position: (sympy.physics.vector.vector.Vector)\n",
    "        of particle's center of mass\n",
    "    frameOfReference: (sympy.physics.vector.frame.ReferenceFrame)\n",
    "        in which position is expressed\n",
    "    \n",
    "    Returns\n",
    "    -------\n",
    "    Equality Sympy (sympy.core.relational.Equality)\n",
    "        On the right hand side, it explains the kinetic energy of the system as a function of generalized coordinates, velocities and time.\n",
    "        Kinetic Energy, T = (m/2) \\dot{\\vec{r}} \\cdot\\dot{\\vec{r}}\n",
    "    \"\"\"\n",
    "    velocity = position.dt(frameOfReference)\n",
    "    oneHalf = sym.Rational(1,2)\n",
    "    T_translational = sym.Eq(\n",
    "        sym.Symbol('T_{translational}'),\n",
    "        oneHalf* mass* velocity.dot(velocity)\n",
    "        ).simplify()\n",
    "    return T_translational"
   ]
  },
  {
   "cell_type": "code",
   "execution_count": 10,
   "metadata": {
    "colab": {
     "base_uri": "https://localhost:8080/",
     "height": 76
    },
    "id": "oFJ1GJLc-_9a",
    "outputId": "e18de834-999e-4129-aad1-7b4b7f39bbb9"
   },
   "outputs": [
    {
     "data": {
      "image/png": "[encoded data removed]",
      "text/latex": [
       "$\\displaystyle T_{translational} = \\frac{m_{1} \\dot{x}^{2}}{2} + \\frac{m_{2} \\left(\\ell^{2} \\dot{\\phi}^{2} + 2 \\ell \\cos{\\left(\\phi \\right)} \\dot{\\phi} \\dot{x} + \\dot{x}^{2}\\right)}{2}$"
      ],
      "text/plain": [
       "                        2      ⎛    2  2                        2⎞\n",
       "                    m₁⋅ẋ    m₂⋅⎝\\ell ⋅φ̇  + 2⋅\\ell⋅cos(φ)⋅φ̇⋅ẋ + ẋ ⎠\n",
       "T_{translational} = ───── + ──────────────────────────────────────\n",
       "                      2                       2                   "
      ]
     },
     "execution_count": 10,
     "metadata": {},
     "output_type": "execute_result"
    }
   ],
   "source": [
    "# Kinetic energy of the system\n",
    "m1_T = translationalKineticEnergy(m1, m1_r, e)\n",
    "m2_T = translationalKineticEnergy(m2, m2_r, e)\n",
    "T = sym.Eq(m1_T.lhs, m1_T.rhs + m2_T.rhs ) \n",
    "T"
   ]
  },
  {
   "cell_type": "markdown",
   "metadata": {},
   "source": [
    "------------------------------------------------"
   ]
  },
  {
   "cell_type": "markdown",
   "metadata": {},
   "source": [
    "## Gravitational force\n",
    "There are four forces in physics: \n",
    "- gravitational \n",
    "- weak nuclear \n",
    "- electromagnetic \n",
    "- strong nuclear\n",
    "\n",
    "that for enormous levels of energy (e.g. particle accelerators, cosmological phenomena) are unified: first the electro-weak, then with more energy the strong force is added.\n",
    "It is expected that the gravitational force can be unified into new theories, making all the forces in the universe actually one only force.\n",
    "\n",
    "But in our daily lives, interactions are at low energy and **almost all of them are electromagnetic**.\n",
    "When we push an object composed of molecules and/or atoms into a crystal lattice, the electrons in the molecules in our hand repel those in the object.\n",
    "Such is the repulsion that prevents molecules from the hand from binding inside the object and that we merge with it.\n",
    "Adhesives are the exception because they are made with molecules of strong electrical polarity. \n",
    "\n",
    "We say that **almost all** everyday interactions are electromagnetic because the **gravitational force** is the big exception.\n",
    "Beyond the nonsense created by astrologers, the planets do not exert a considerable interaction upon us, since the gravitational force decreases with the square of the distance.\n",
    "There is one planet that is the exception, ours.\n",
    "The gravitational force exerted upon us by our planet is so strong that we name it: **weight**."
   ]
  },
  {
   "cell_type": "markdown",
   "metadata": {},
   "source": [
    "### What is weight?\n",
    "It is the name we give to the **gravitational force** exerted upon objects with mass $m$ at a height not too far from the Earth's surface.\n",
    "\n",
    "What is that about height?\n",
    "Nobody thinks about the weight of the Moon or Mars.\n",
    "Earth exerts some gravitational pull upon them, but the distance diminishes the effect.\n",
    "Mars is not affected by Earth, but the Moon is.\n",
    "\n",
    "If the height isn't above a few hundred kilometers, the Earth's gravitational field exerts a force upon any object of mass $m$ such that its acceleration $\\vec{g}$, the force we call weight:\n",
    "$$\n",
    "    \\vec{W} = m \\vec{g}.\n",
    "$$\n",
    "\n",
    "A couple of things we have to consider about this force:\n",
    "- To move $m$ against the direction of $\\vec{g}$\n",
    "    - this requires doing work upon this object, meaning external work is positive, \n",
    "    - and it gains potential energy.\n",
    "- On the other hand, if we let it fall\n",
    "    - this work is returned to us, meaning external work is negative,\n",
    "    - and it loses potential energy.\n",
    "\n",
    "And this holds always **no matter how we chose the orientation of the axes in our coordinate system**."
   ]
  },
  {
   "cell_type": "markdown",
   "metadata": {},
   "source": [
    "### Conservative forces and potential energy\n",
    "The relation between a conservative force and potential that describes the field that generates this force is\n",
    "$$\n",
    "\\vec{F}= - \\vec{\\nabla} V.\n",
    "$$\n",
    "\n",
    "We will work in a **cartesian coordinate system**, so a position is\n",
    "$$\n",
    "\\vec{r} = (x,y,z) = x \\hat{x} + y \\hat{y} + z \\hat{z}.\n",
    "$$\n",
    "\n",
    "To determine a force, we must use the operator $\\vec{\\nabla}$ in this coordinate system.\n",
    "This vector operator is applied to the potential $V = V(x,y,z)$ which is a scalar function\n",
    "$$\n",
    "\\vec{F} \n",
    "= - \\vec{\\nabla}V \n",
    "= - \\left( \\frac{\\partial}{\\partial x}, \\frac{\\partial}{\\partial y}, \\frac{\\partial}{\\partial z} \\right) V \n",
    "= - \\left( \\frac{\\partial V}{\\partial x} \\hat{x} + \\frac{\\partial V }{\\partial y} \\hat{y} + \\frac{\\partial V}{\\partial z} \\hat{z} \\right) .\n",
    "$$"
   ]
  },
  {
   "cell_type": "markdown",
   "metadata": {},
   "source": [
    "### Axes orientation\n",
    "We will orient the axes in a way such that the horizontal directions $\\hat{x}$ y $\\hat{y}$ are parallel to a _ground_, and $\\hat{z}$ is vertical."
   ]
  },
  {
   "cell_type": "markdown",
   "metadata": {},
   "source": [
    "#### $\\hat{z}$ axis directed upward\n",
    "Since acceleration due to gravity is directed downward\n",
    "$$\n",
    "\\vec{g} = g (-\\hat{z}),\n",
    "$$\n",
    "the expression for weight is\n",
    "$$\n",
    "\\vec{W} = m (-g \\hat{z}).\n",
    "$$\n",
    "\n",
    "Gravitational potential energy is calculated using that expression\n",
    "$$\n",
    "\\vec{W} = m (-g \\hat{z}) = - \\vec{\\nabla} V = - \\frac{\\mathrm{d} V}{\\mathrm{d} z} \\hat{z},\n",
    "$$\n",
    "where only the component in the $\\hat{z}$ axis is left when calculating the gradient of the potential, because the force has no other components.\n",
    "In order to obtain $V$ we must integrate\n",
    "$$\n",
    "\\begin{aligned}\n",
    "m g (- \\hat{z}) &= - \\frac{\\mathrm{d} V}{\\mathrm{d} z} \\hat{z}\\\\\n",
    "m g (- \\hat{z}) \\mathrm{d} z &= - \\mathrm{d} V \\hat{z}\\\\\n",
    "m (g \\hat{z}) \\int \\mathrm{d} z &= \\int \\mathrm{d} V \\hat{z} \\\\\n",
    "m g z \\biggr\\rvert_{z_0}^z &= V \\biggr\\rvert_{z_0}^z\\\\\n",
    "m g (z - z_0) &= V(z) - V(z_0).\n",
    "\\end{aligned}\n",
    "$$\n",
    "\n",
    "The potential $V(z) = m g (z - z_0) + V(z_0)$ is defined after we set a reference value $V(z_0)$, calculated at a reference level $z_0$.\n",
    "If $z_0 = 0$ y $V(z_0) = 0$, seting the reference potential at the origin (i.e. the  _ground potential_) we get\n",
    "$$\n",
    "V(z) = m g z.\n",
    "$$\n",
    "That is, if the object **moves upward**, $z$ increases, and the **the potential increases**."
   ]
  },
  {
   "cell_type": "markdown",
   "metadata": {},
   "source": [
    "#### $\\hat{z}$ directed downward\n",
    "In this case\n",
    "$$\n",
    "\\vec{g} = g ( \\hat{z}),\n",
    "$$\n",
    "then\n",
    "$$\n",
    "\\begin{aligned}\n",
    "m g \\hat{z} &= - \\frac{\\mathrm{d} V}{\\mathrm{d} z} \\hat{z}\\\\\n",
    "m g \\hat{z} \\mathrm{d} z&= - \\mathrm{d} V \\hat{z}\\\\\n",
    "m g \\hat{z}\\int \\mathrm{d} z &= - \\int \\mathrm{d} V \\hat{z}\\\\\n",
    "m g z \\biggr\\rvert_{z_0}^z &= - V \\biggr\\rvert_{z_0}^z \\\\\n",
    "m g (z - z_0) &= - V(z) + V(z_0).\n",
    "\\end{aligned}\n",
    "$$\n",
    "\n",
    "If we set $z_0 = 0$ y $V(z_0) = 0$ again, we get \n",
    "$$\n",
    "V(z) = -m g z,\n",
    "$$\n",
    "and here too **if the object moves upward**, and that means $z$ decreases, the **potential increases**."
   ]
  },
  {
   "cell_type": "markdown",
   "metadata": {},
   "source": [
    "## A general formulation"
   ]
  },
  {
   "cell_type": "markdown",
   "metadata": {},
   "source": [
    "Potential energy is the negative of the gradient.\n",
    "Then for gravitational potential energy it is the negative of weight force times height.\n",
    "So\n",
    "$$\n",
    "\\boxed{\n",
    "V = - (m \\vec{g}) \\cdot \\vec{r} = - \\vec{W} \\cdot \\vec{r}\n",
    "},\n",
    "$$\n",
    "where the height in the corresponding projection in the selected frame of reference affects the position vector $\\vec{r}$.\n",
    "\n",
    "Let's test this.\n",
    "If we set the $\\hat{z}$ axis pointing upward\n",
    "$$\n",
    "\\begin{aligned}\n",
    "V &= - \\vec{W} \\cdot \\vec{r}\\\\\n",
    "V &= - (m (-g \\hat{z}) ) \\cdot (x \\hat{x} + y \\hat{y} + z \\hat{z}) = - (m g (-\\hat{z}) ) \\cdot (z \\hat{z})\\\\\n",
    "V &= m g z \\hat{z} \\cdot \\hat{z} = m g z,\n",
    "\\end{aligned}\n",
    "$$\n",
    "and since $\\hat{z} \\cdot \\hat{z} = 1$, we find the same expression that was obtained by integration.\n",
    "\n",
    "With $\\hat{z}$ pointing downward\n",
    "$$\n",
    "\\begin{aligned}\n",
    "V &= - \\vec{W} \\cdot \\vec{r}\\\\\n",
    "V &= - (m (g \\hat{z} ) ) \\cdot (z \\hat{z}) = - m g z,\n",
    "\\end{aligned}\n",
    "$$\n",
    "we get the same expression we found for this case."
   ]
  },
  {
   "cell_type": "markdown",
   "metadata": {},
   "source": [
    "---------------------------------"
   ]
  },
  {
   "cell_type": "markdown",
   "metadata": {},
   "source": [
    "## Back to the problem"
   ]
  },
  {
   "cell_type": "markdown",
   "metadata": {
    "id": "D_D4WBpYU-zV"
   },
   "source": [
    "Only particle with 'm_2' moves in a direction where its gravitational potential changes.\n",
    "Therefore, the gravitational potential energy for the system in this problem can be calculated according to the following.\n",
    "$$\n",
    "\\begin{aligned}\n",
    "V(\\varphi)\n",
    "&= -\\vec{W}_2 \\cdot \\vec{r}_2 \\\\\n",
    "&= - [m_2 (g (- \\hat{y} ) ] \\cdot (x_2 \\hat{x} + y_2 \\hat{y}) \\\\\n",
    "&= - (- m_2 g\\hat{y} ) \\cdot ( y_2 \\hat{y}) \\\\\n",
    "&= (m_2 g) \\hat{y} \\cdot (-\\ell \\cos{(\\varphi)} ) \\hat{y} \\\\\n",
    "&= - \\ell g m_2 \\cos{(\\varphi)}.\n",
    "\\end{aligned}\n",
    "$$"
   ]
  },
  {
   "cell_type": "code",
   "execution_count": 11,
   "metadata": {
    "colab": {
     "base_uri": "https://localhost:8080/",
     "height": 38
    },
    "id": "_JunI7P-U-zW",
    "outputId": "d6e045bc-98bb-42d7-8cc6-bc5071f58137"
   },
   "outputs": [
    {
     "data": {
      "image/png": "[encoded data removed]",
      "text/latex": [
       "$\\displaystyle (\\ell \\sin{\\left(\\phi \\right)} + x)\\mathbf{\\hat{e}_x} -  \\ell \\cos{\\left(\\phi \\right)}\\mathbf{\\hat{e}_y}$"
      ],
      "text/plain": [
       "(\\ell⋅sin(φ) + x) e_x + -\\ell⋅cos(φ) e_y"
      ]
     },
     "execution_count": 11,
     "metadata": {},
     "output_type": "execute_result"
    }
   ],
   "source": [
    "m2_r"
   ]
  },
  {
   "cell_type": "code",
   "execution_count": 12,
   "metadata": {
    "colab": {
     "base_uri": "https://localhost:8080/",
     "height": 38
    },
    "id": "IP_at5g6U-zX",
    "outputId": "edc823b2-b187-4260-f33a-232cb3d51f20"
   },
   "outputs": [
    {
     "data": {
      "image/png": "[encoded data removed]",
      "text/latex": [
       "$\\displaystyle V = - \\ell g m_{2} \\cos{\\left(\\phi \\right)}$"
      ],
      "text/plain": [
       "V = -\\ell⋅g⋅m₂⋅cos(φ)"
      ]
     },
     "execution_count": 12,
     "metadata": {},
     "output_type": "execute_result"
    }
   ],
   "source": [
    "# Potential energy\n",
    "m1_V = 0\n",
    "W_2 = m2* g* (- e.y) # weight\n",
    "m2_V = -W_2.dot(m2_r) # -W dot product position\n",
    "V = sym.Eq(sym.Symbol('V'), (m1_V + m2_V ) )\n",
    "V"
   ]
  },
  {
   "cell_type": "markdown",
   "metadata": {
    "id": "q0xPig6p-_9d"
   },
   "source": [
    "It is tempting to create a function that calculates the gravitational potential energy of each particle in the system from\n",
    "$$\n",
    "V_\\mathrm{gravitational} = - \\vec{W} \\cdot \\vec{r} = - (m \\vec{g}) \\cdot \\vec{r}\n",
    "$$"
   ]
  },
  {
   "cell_type": "code",
   "execution_count": null,
   "metadata": {},
   "outputs": [],
   "source": [
    "def gravitationalPotentialEnergy(mass, position, accelerationDueToGravity):\n",
    "    \"\"\"\n",
    "    It returns the gravitational potential energy of a particle of mass m whose position r is given in a frame of reference in which g is the Earth's gravitational acceleration.\n",
    "    \n",
    "    Parameters\n",
    "    ----------\n",
    "    accelerationDueToGravity: (sympy.physics.vector.vector.Vector)\n",
    "        vector oriented according to the frame of reference\n",
    "    mass: (sympy.core.symbol.Symbol\n",
    "        of the particle\n",
    "    position: (sympy.core.symbol.Symbol)\n",
    "        of the center of mass in a frame of reference related to accelerationDueToGravity\n",
    "    \n",
    "    Returns\n",
    "    -------\n",
    "    Equality Sympy (sympy.core.relational.Equality)\n",
    "        On the right hand side, it explains the potential energy of the system as a function of generalized coordinates and time.\n",
    "    generalizedCoordinate: (sympy.core.symbol.Symbol)\n",
    "        V = - (m \\vec{accelerationDueToGravity}) \\cdot{position}\n",
    "    \"\"\"\n",
    "    V_gravitational = sym.Eq(\n",
    "        sym.Symbol('V_{gravitational}'),\n",
    "        - (mass* accelerationDueToGravity).dot(position)\n",
    "        ).simplify()\n",
    "    return V_gravitational"
   ]
  },
  {
   "cell_type": "code",
   "execution_count": 14,
   "metadata": {
    "colab": {
     "base_uri": "https://localhost:8080/",
     "height": 38
    },
    "id": "hCqUFYa7-_9f",
    "outputId": "2cd56a28-a2d2-4d5e-9032-ed202ddfbfaa",
    "tags": []
   },
   "outputs": [
    {
     "data": {
      "image/png": "[encoded data removed]",
      "text/latex": [
       "$\\displaystyle V_{gravitational} = - \\ell g m_{2} \\cos{\\left(\\phi \\right)}$"
      ],
      "text/plain": [
       "V_{gravitational} = -\\ell⋅g⋅m₂⋅cos(φ)"
      ]
     },
     "execution_count": 14,
     "metadata": {},
     "output_type": "execute_result"
    }
   ],
   "source": [
    "# Potential energy\n",
    "g_vector = g* (-e.y) # acceleration due to gravity in -y axis\n",
    "m1_V = gravitationalPotentialEnergy(m1, m1_r, g_vector)\n",
    "m2_V = gravitationalPotentialEnergy(m2, m2_r, g_vector)\n",
    "V = sym.Eq(m1_V.lhs, m1_V.rhs + m2_V.rhs ).simplify()\n",
    "V"
   ]
  },
  {
   "cell_type": "markdown",
   "metadata": {},
   "source": [
    "Showing that we obtain the same result than calculating it \"by hand\", and that the particle with position 'm1_r' should not be considered as a particular case."
   ]
  },
  {
   "cell_type": "markdown",
   "metadata": {},
   "source": [
    "---------------------------------"
   ]
  },
  {
   "cell_type": "markdown",
   "metadata": {},
   "source": [
    "## Ideal pendulum"
   ]
  },
  {
   "cell_type": "markdown",
   "metadata": {
    "id": "X7JOccMqU-zY"
   },
   "source": [
    "![pénduloHorizontal.png](data:image/png;base64,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)"
   ]
  },
  {
   "cell_type": "markdown",
   "metadata": {},
   "source": [
    "### Kinetic energy"
   ]
  },
  {
   "cell_type": "markdown",
   "metadata": {
    "id": "_6LeBCwgU-zY"
   },
   "source": [
    "Since length $\\ell$ is constant, it is convenient to work in cylindrical coordinates.\n",
    "In these, a rigid and ideal pendulum has a single non-zero component of its velocity: the one in $\\hat{\\varphi}$, that is $\\dot{\\vec{r}} \\cdot \\hat{\\varphi}= \\ell \\dot{\\varphi}$.\n",
    "Then\n",
    "$$\n",
    "T= \\frac{m}{2} \\dot{\\vec{r}}^2= \\frac{m}{2} \\ell^2 \\dot{\\varphi}^2.\n",
    "$$\n"
   ]
  },
  {
   "cell_type": "markdown",
   "metadata": {},
   "source": [
    "In the expression of the kinetic energy of the previous system, the generalized coordinate of $m_1$, which is $x$, the position of the support point is not present."
   ]
  },
  {
   "cell_type": "code",
   "execution_count": 15,
   "metadata": {
    "colab": {
     "base_uri": "https://localhost:8080/",
     "height": 76
    },
    "id": "z3Q5Nis6U-zZ",
    "outputId": "5fe19be5-0868-4c79-b889-061ea4f98b4f"
   },
   "outputs": [
    {
     "data": {
      "image/png": "[encoded data removed]",
      "text/latex": [
       "$\\displaystyle T_{translational} = \\frac{m_{1} \\dot{x}^{2}}{2} + \\frac{m_{2} \\left(\\ell^{2} \\dot{\\phi}^{2} + 2 \\ell \\cos{\\left(\\phi \\right)} \\dot{\\phi} \\dot{x} + \\dot{x}^{2}\\right)}{2}$"
      ],
      "text/plain": [
       "                        2      ⎛    2  2                        2⎞\n",
       "                    m₁⋅ẋ    m₂⋅⎝\\ell ⋅φ̇  + 2⋅\\ell⋅cos(φ)⋅φ̇⋅ẋ + ẋ ⎠\n",
       "T_{translational} = ───── + ──────────────────────────────────────\n",
       "                      2                       2                   "
      ]
     },
     "execution_count": 15,
     "metadata": {},
     "output_type": "execute_result"
    }
   ],
   "source": [
    "T"
   ]
  },
  {
   "cell_type": "markdown",
   "metadata": {},
   "source": [
    "But the generalized velocity $\\dot{x}$ that corresponds to that coordinate is present."
   ]
  },
  {
   "cell_type": "markdown",
   "metadata": {
    "id": "5dBXvG-MU-zZ"
   },
   "source": [
    "Pero si figura la velocidad generalizada $\\dot{x}$ que corresponde a esa coordenada.\n",
    "If the support point is fixed, obviously $\\dot{x}$ should be $0$."
   ]
  },
  {
   "cell_type": "code",
   "execution_count": 16,
   "metadata": {
    "colab": {
     "base_uri": "https://localhost:8080/",
     "height": 66
    },
    "id": "C_Rc4quCU-zZ",
    "outputId": "1ad4c323-b46c-4ca4-dc9d-a833515bd489"
   },
   "outputs": [
    {
     "data": {
      "image/png": "[encoded data removed]",
      "text/latex": [
       "$\\displaystyle T_{translational} = \\frac{\\ell^{2} m_{2} \\dot{\\phi}^{2}}{2}$"
      ],
      "text/plain": [
       "                        2     2\n",
       "                    \\ell ⋅m₂⋅φ̇ \n",
       "T_{translational} = ───────────\n",
       "                         2     "
      ]
     },
     "execution_count": 16,
     "metadata": {},
     "output_type": "execute_result"
    }
   ],
   "source": [
    "fixedSupport_T = T.subs(x.diff(t), 0) # subs: substitution\n",
    "fixedSupport_T"
   ]
  },
  {
   "cell_type": "markdown",
   "metadata": {},
   "source": [
    "In this expression we can find a common factor $\\ell^2 \\dot{\\varphi}^2$ by leaving the sum of the square of the sine and that of the cosine in parentheses. This, as we know, is simplified to $1."
   ]
  },
  {
   "cell_type": "code",
   "execution_count": 17,
   "metadata": {
    "colab": {
     "base_uri": "https://localhost:8080/",
     "height": 56
    },
    "id": "7y-p578cU-zb",
    "outputId": "4629d212-ffef-42e2-a536-ca962e7ccb0f"
   },
   "outputs": [
    {
     "data": {
      "image/png": "[encoded data removed]",
      "text/latex": [
       "$\\displaystyle T_{translational} = \\frac{\\ell^{2} m_{2} \\dot{\\phi}^{2}}{2}$"
      ],
      "text/plain": [
       "                        2     2\n",
       "                    \\ell ⋅m₂⋅φ̇ \n",
       "T_{translational} = ───────────\n",
       "                         2     "
      ]
     },
     "execution_count": 17,
     "metadata": {},
     "output_type": "execute_result"
    }
   ],
   "source": [
    "fixedSupport_T.simplify()"
   ]
  },
  {
   "cell_type": "markdown",
   "metadata": {
    "id": "qPkTxeAwU-zb"
   },
   "source": [
    "This is the same expression of $T$ than for the ideal pendulum."
   ]
  },
  {
   "cell_type": "markdown",
   "metadata": {
    "id": "cOSABEVH-_9l"
   },
   "source": [
    "### Potential energy"
   ]
  },
  {
   "cell_type": "markdown",
   "metadata": {
    "id": "lZa-Ijv9U-zb"
   },
   "source": [
    "Gravitational potential energy is $V(y)= m g y$.\n",
    "We set that for $y=0$ is null, that is $V(y=0)= 0$.\n",
    "Then in cylindrical coordinates $y= -\\ell \\cos{\\varphi}$ we get\n",
    "$$\n",
    "V(\\varphi)= -m g \\ell \\cos{\\varphi}.\n",
    "$$"
   ]
  },
  {
   "cell_type": "markdown",
   "metadata": {},
   "source": [
    "Since neither $x_1$ nor $\\dot{x}_1$ have any role in potential energy, it is identical to that of the ideal pendulum."
   ]
  },
  {
   "cell_type": "code",
   "execution_count": 18,
   "metadata": {
    "colab": {
     "base_uri": "https://localhost:8080/",
     "height": 38
    },
    "id": "FchMeqWy-_9n",
    "outputId": "3b6db3c8-9d76-4e30-fbee-889a53983b35",
    "tags": []
   },
   "outputs": [
    {
     "data": {
      "image/png": "[encoded data removed]",
      "text/latex": [
       "$\\displaystyle V_{gravitational} = - \\ell g m_{2} \\cos{\\left(\\phi \\right)}$"
      ],
      "text/plain": [
       "V_{gravitational} = -\\ell⋅g⋅m₂⋅cos(φ)"
      ]
     },
     "execution_count": 18,
     "metadata": {},
     "output_type": "execute_result"
    }
   ],
   "source": [
    "V"
   ]
  }
 ],
 "metadata": {
  "colab": {
   "provenance": []
  },
  "kernelspec": {
   "display_name": "Python 3 (ipykernel)",
   "language": "python",
   "name": "python3"
  },
  "language_info": {
   "codemirror_mode": {
    "name": "ipython",
    "version": 3
   },
   "file_extension": ".py",
   "mimetype": "text/x-python",
   "name": "python",
   "nbconvert_exporter": "python",
   "pygments_lexer": "ipython3",
   "version": "3.10.12"
  }
 },
 "nbformat": 4,
 "nbformat_minor": 4
}
