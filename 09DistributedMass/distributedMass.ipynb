{
 "cells": [
  {
   "cell_type": "markdown",
   "metadata": {},
   "source": [
    "# Rigid Body Dynamics | Continuous Mass Distributions"
   ]
  },
  {
   "cell_type": "markdown",
   "metadata": {},
   "source": [
    "[![DIIT - UNLaM](data:image/png;base64,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)](https://ingenieria.unlam.edu.ar/)    \n",
    "[![by-nc-sa_80x15.png](data:image/png;base64,iVBORw0KGgoAAAANSUhEUgAAAFAAAAAPCAMAAABEF7i9AAAABGdBTUEAANbY1E9YMgAAAJZQTFRF////7u7u3d3dys7KzMzMyMzIxsrGxcbFur+6u7u7s7iyq7GqqqqqmZmZlJmTj5CPiIiIh4eHhoaGgICAfYJ9d3d3cnZxZ2tnZmZmW15bVVVVS0xLREREQ0NDQkJCQUJBOz07OTs5MzMzMTMxLjAuJygnJCUjIiIiISEhICAgGRkZERERDxAPDg4ODQ4NDQ0NDQ0MAAAADbeuvgAAAOhJREFUeNqtk+tyAiEMhQ+6XtroutZiveBdu+p2tXn/l3OQy8roL5fMMENC+HIIAI5sYEQ1DSRtP5zZkCpToubf2/oMMC0zX0QdiLqjmsD1sVKd8JSoNa8HvGRIclZCcZ5A7Yiag/s6oJPMYD8FKgIC3wG/+QP5DFIWot+DvBB1OxYAk+W2W88HqqwAOOZE6FuZbfWZZUn02fb1rTAHc3izZgQCrxWqSSFkH/IaKuSHEzEChfyk2PbwmqFX8EQo3jaw2Ac9DIFhD12Tn4CbU+RbTv+HHrj8jfAOacxflrc61/0psf9yZLsBr5WUrhUa3hEAAAAASUVORK5CYII=)](https://creativecommons.org/licenses/by-sa/4.0/deed.es_ES)\n",
    "2025 [Víctor A. Bettachini](mailto:vbettachini@unlam.edu.ar)  \n",
    "\n",
    "---"
   ]
  },
  {
   "cell_type": "markdown",
   "metadata": {},
   "source": [
    "## Inertia Tensor for Point Masses\n",
    "\n",
    "With the 2nd order tensor $I_{ik}$, we calculate $T = \\frac{m}{2} \\dot{\\vec{R}}^2 + \\frac{1}{2} I_{ik} \\Omega_i \\Omega_k$\n",
    "\n",
    "$$\n",
    "\\overline{\\overline{I}}\n",
    "= I_{ik} =\n",
    "\\begin{pmatrix}\n",
    "I_{xx} & I_{xy} & I_{xz} \\\\\n",
    "I_{yx} & I_{yy} & I_{yz} \\\\\n",
    "I_{zx} & I_{zy} & I_{zz} \\\\\n",
    "\\end{pmatrix}\n",
    "=\n",
    "\\begin{pmatrix}\n",
    "\\sum_p m_p (y_p^2 + z_p^2) & - \\sum_p m_p x_p y_p & - \\sum_p m_p x_p z_p \\\\\n",
    "- \\sum_p m_p y_p x_p & \\sum_p m_p (x_p^2 + z_p^2) & - \\sum_p m_p y_p z_p \\\\\n",
    "- \\sum_p m_p z_p x_p & - \\sum_p m_p z_p y_p & \\sum_p m_p (x_p^2 + y_p^2) \\\\\n",
    "\\end{pmatrix}\n",
    "$$\n",
    "\n",
    "- The tensor $\\overline{\\overline{I}}$ is symmetric\n",
    "- $I_{xx}, I_{yy}, I_{zz}$: **moments of inertia**, the others are **products of inertia**"
   ]
  },
  {
   "cell_type": "markdown",
   "metadata": {},
   "source": [
    "## Inertia Tensor for Continuous Mass Distributions\n",
    "\n",
    "In the inertia tensor $I_{ik}$, the summation over discrete mass positions is replaced by a continuous integration over the entire volume of the density as a function of position $\\tilde{\\rho}(\\vec{r})$.\n",
    "\n",
    "$$\n",
    "I_{ik} = \\iiint \\tilde{\\rho}(\\vec{r}) \\left[ x_l^2 \\delta_{ik} -  x_i x_k \\right] dV.\n",
    "$$\n",
    "\n",
    "$$\n",
    "\\overline{\\overline{I}}\n",
    "= I_{ik} = \n",
    "\\begin{pmatrix}\n",
    "I_{xx} & I_{xy} & I_{xz} \\\\\n",
    "I_{yx} & I_{yy} & I_{yz} \\\\\n",
    "I_{zx} & I_{zy} & I_{zz} \\\\\n",
    "\\end{pmatrix}\n",
    "=\n",
    "\\begin{pmatrix}\n",
    "\\iiint \\tilde{\\rho}(\\vec{r}) (y^2 + z^2) dV  &  - \\iiint \\tilde{\\rho}(\\vec{r}) x y dV  &  - \\iiint \\tilde{\\rho}(\\vec{r}) x z dV \\\\\n",
    "- \\iiint \\tilde{\\rho}(\\vec{r}) y x dV  &  \\iiint \\tilde{\\rho}(\\vec{r}) (x^2 + z^2) dV  &  - \\iiint \\tilde{\\rho}(\\vec{r}) y z dV \\\\\n",
    "- \\iiint \\tilde{\\rho}(\\vec{r}) z x dV  &  - \\iiint \\tilde{\\rho}(\\vec{r}) z y dV  &   \\iiint \\tilde{\\rho}(\\vec{r}) (x^2 + y^2) dV \\\\\n",
    "\\end{pmatrix}\n",
    "$$"
   ]
  },
  {
   "cell_type": "markdown",
   "metadata": {},
   "source": [
    "## Moments of Inertia of Simple Solids\n",
    "\n",
    "Whenever you have to solve a problem, don't reinvent the wheel—use the results from below or from the\n",
    "\n",
    ">**Reference**   \n",
    "[List of 3D inertia tensors](https://en.wikipedia.org/wiki/List_of_moments_of_inertia#List_of_3D_inertia_tensors)  \n",
    "Wikipedia  "
   ]
  },
  {
   "cell_type": "markdown",
   "metadata": {},
   "source": [
    "### **Homogeneous cylinder**   \n",
    "\n",
    "![Moment_of_inertia_solid_cylinder.svg.png](data:image/png;base64,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)\n",
    "\n",
    "It is convenient to work using cylindrical coordinates, so $dV = \\rho d\\rho d\\varphi dz$, since $\\rho$ is the jacobian for this coordinate system."
   ]
  },
  {
   "cell_type": "markdown",
   "metadata": {},
   "source": [
    "If you have the density data of an object, you can calculate the inertia tensor of that object.\n",
    "But usually you don't have the density data, rather you have the mass data from a weighing.\n",
    "It then remains to calculate the density from the mass and volume."
   ]
  },
  {
   "cell_type": "code",
   "execution_count": 1,
   "metadata": {},
   "outputs": [],
   "source": [
    "import sympy as sm"
   ]
  },
  {
   "cell_type": "code",
   "execution_count": 3,
   "metadata": {},
   "outputs": [
    {
     "data": {
      "text/latex": [
       "$\\displaystyle Volume_{cylinder} = \\int\\limits_{- \\frac{h}{2}}^{\\frac{h}{2}}\\int\\limits_{0}^{2 \\pi}\\int\\limits_{0}^{r} \\rho\\, d\\rho\\, d\\varphi\\, dz$"
      ],
      "text/plain": [
       "Eq(Volume_{cylinder}, Integral(rho, (rho, 0, r), (varphi, 0, 2*pi), (z, -h/2, h/2)))"
      ]
     },
     "execution_count": 3,
     "metadata": {},
     "output_type": "execute_result"
    }
   ],
   "source": [
    "ro, z, fi = sm.symbols('rho z varphi') # variables in a cylindrical coordinate system\n",
    "r, h = sm.symbols('r h') # we define the symbols for density, radius of the base and height\n",
    "jacobian_cylindrical = ro # jacobian for the transformation from cylindrical to cartesian\n",
    "\n",
    "cylinder_volume = sm.Eq(\n",
    "  sm.Symbol('Volume_{cylinder}'),\n",
    "  sm.Integral(\n",
    "    jacobian_cylindrical,\n",
    "    (ro, 0, r), (fi, 0, 2 * sm.pi), (z, -h/2, h/2)\n",
    "    )\n",
    ")\n",
    "cylinder_volume"
   ]
  },
  {
   "cell_type": "code",
   "execution_count": 4,
   "metadata": {},
   "outputs": [
    {
     "data": {
      "text/latex": [
       "$\\displaystyle Volume_{cylinder} = \\pi h r^{2}$"
      ],
      "text/plain": [
       "Eq(Volume_{cylinder}, pi*h*r**2)"
      ]
     },
     "execution_count": 4,
     "metadata": {},
     "output_type": "execute_result"
    }
   ],
   "source": [
    "cylinder_volume.doit()"
   ]
  },
  {
   "cell_type": "markdown",
   "metadata": {},
   "source": [
    "We will call the density $\\tilde{\\rho}$ to avoid confusion with the radial coordinate $\\rho$."
   ]
  },
  {
   "cell_type": "code",
   "execution_count": 5,
   "metadata": {},
   "outputs": [
    {
     "data": {
      "text/latex": [
       "$\\displaystyle \\tilde{\\rho}_{cylinder} = \\frac{m}{\\pi h r^{2}}$"
      ],
      "text/plain": [
       "Eq(\\tilde{\\rho}_{cylinder}, m/(pi*h*r**2))"
      ]
     },
     "execution_count": 5,
     "metadata": {},
     "output_type": "execute_result"
    }
   ],
   "source": [
    "m = sm.Symbol('m') # we define the symbol for mass\n",
    "cylinder_density = sm.Eq(\n",
    "  sm.Symbol(r'\\tilde{\\rho}_{cylinder}'),\n",
    "  m/ cylinder_volume.rhs.doit()\n",
    ")\n",
    "cylinder_density"
   ]
  },
  {
   "cell_type": "markdown",
   "metadata": {},
   "source": [
    "We recall the expression for the elements of the inertia tensor for a continuous system.\n",
    "\n",
    "$$\n",
    "I_{ik} = \\iiint \\tilde{\\rho}(\\vec{r}) \\left[ x_l^2 \\delta_{ik} -  x_i x_k \\right] dV .\n",
    "$$\n",
    "\n",
    "To calculate $I_{zz}$, the moment of inertia on $\\hat{z}$, we have $i=z$ and $k=z$\n",
    "\n",
    "$$\n",
    "\\begin{aligned}\n",
    "I{zz} \n",
    "&= \\iiint \\tilde{\\rho}(\\vec{r}) \\left[ x^2 + y^2 + z^2 - zz \\right] dV \\\\\n",
    "&= \\iiint \\tilde{\\rho}(\\vec{r}) \\left[ x^2 + y^2 \\right] dV \\\\\n",
    "&= \\iiint \\tilde{\\rho}(\\vec{r}) \\left[ \\left(\\rho^2 \\cos^2{\\varphi} \\right) + \\left(\\rho^2 \\sin^2{\\varphi} \\right) \\right] dV \\\\\n",
    "&= \\iiint \\tilde{\\rho}(\\vec{r}) \\left[ \\rho^2 \\left( \\cos^2{\\varphi} + \\sin^2{\\varphi} \\right) \\right] dV \\\\\n",
    "&= \\iiint \\tilde{\\rho}(\\vec{r}) \\left[ \\rho^2 \\right] dV \\\\\n",
    "&= \\int_{-h/2}^{h/2} \\int_0^{2\\pi} \\int_0^R \\tilde{\\rho}(\\vec{r}) \\left[ \\rho^2 \\right] \\rho d\\rho  d\\varphi  dz .\n",
    "\\end{aligned}\n",
    "$$\n",
    "\n",
    "To determine $\\left[ x_l^2 \\delta_{ik} - x_i x_k \\right]$ it is not necessary to recalculate it each time.\n",
    "It suffices to refer to the expression of the inertia tensor $\\overline{\\overline{I}}$ already seen, where for $I_{zz}$ it corresponds\n",
    "\n",
    "$$\n",
    "x^2 + y^2 = \\rho^2 (\\cos^2{\\varphi} + \\sin^2{\\varphi}) = \\rho^2\n",
    "$$"
   ]
  },
  {
   "cell_type": "code",
   "execution_count": 6,
   "metadata": {},
   "outputs": [
    {
     "data": {
      "text/latex": [
       "$\\displaystyle I_{zz} = \\int\\limits_{- \\frac{h}{2}}^{\\frac{h}{2}}\\int\\limits_{0}^{2 \\pi}\\int\\limits_{0}^{r} \\tilde{\\rho}_{cylinder} \\rho^{3}\\, d\\rho\\, d\\varphi\\, dz$"
      ],
      "text/plain": [
       "Eq(I_{zz}, Integral(\\tilde{\\rho}_{cylinder}*rho**3, (rho, 0, r), (varphi, 0, 2*pi), (z, -h/2, h/2)))"
      ]
     },
     "execution_count": 6,
     "metadata": {},
     "output_type": "execute_result"
    }
   ],
   "source": [
    "ro_density = sm.Symbol(r'\\tilde{\\rho}_{cylinder}')\n",
    "cylinder_Izz = sm.Eq(\n",
    "  sm.Symbol('I_{zz}'),\n",
    "  sm.Integral(\n",
    "    cylinder_density.lhs * ro**2 * jacobian_cylindrical,\n",
    "    (ro, 0, r), (fi, 0, 2* sm.pi), (z, -h/2, h/2)\n",
    "  )\n",
    ")\n",
    "cylinder_Izz"
   ]
  },
  {
   "cell_type": "code",
   "execution_count": 7,
   "metadata": {},
   "outputs": [
    {
     "data": {
      "text/latex": [
       "$\\displaystyle I_{zz} = \\frac{\\pi \\tilde{\\rho}_{cylinder} h r^{4}}{2}$"
      ],
      "text/plain": [
       "Eq(I_{zz}, pi*\\tilde{\\rho}_{cylinder}*h*r**4/2)"
      ]
     },
     "execution_count": 7,
     "metadata": {},
     "output_type": "execute_result"
    }
   ],
   "source": [
    "cylinder_Izz.doit()"
   ]
  },
  {
   "cell_type": "markdown",
   "metadata": {},
   "source": [
    "This cylinder has homogeneous density, that is, it does not depend on position $\\tilde{\\rho}(\\vec{r}) = \\tilde{\\rho}$.\n",
    "And now this expression for density can be substituted into the moment of inertia to obtain the expression that will be used."
   ]
  },
  {
   "cell_type": "code",
   "execution_count": 8,
   "metadata": {},
   "outputs": [
    {
     "data": {
      "text/latex": [
       "$\\displaystyle I_{zz} = \\frac{m r^{2}}{2}$"
      ],
      "text/plain": [
       "Eq(I_{zz}, m*r**2/2)"
      ]
     },
     "execution_count": 8,
     "metadata": {},
     "output_type": "execute_result"
    }
   ],
   "source": [
    "cylinder_Izz.doit().subs(cylinder_density.lhs, cylinder_density.rhs).simplify()"
   ]
  },
  {
   "cell_type": "markdown",
   "metadata": {},
   "source": [
    "For calculating $I_{yy}$ (which is equal to $I_{xx}$) we have to integrate $[x^2 + z^2]$\n",
    "\n",
    "$$\n",
    "x^2 + z^2 = \\rho^2 \\cos^2{\\varphi} + z^2\n",
    "$$"
   ]
  },
  {
   "cell_type": "code",
   "execution_count": 9,
   "metadata": {},
   "outputs": [
    {
     "data": {
      "text/latex": [
       "$\\displaystyle I_{yy} = \\int\\limits_{- \\frac{h}{2}}^{\\frac{h}{2}}\\int\\limits_{0}^{2 \\pi}\\int\\limits_{0}^{r} \\tilde{\\rho}_{cylinder} \\rho \\left(\\rho^{2} \\cos^{2}{\\left(\\varphi \\right)} + z^{2}\\right)\\, d\\rho\\, d\\varphi\\, dz$"
      ],
      "text/plain": [
       "Eq(I_{yy}, Integral(\\tilde{\\rho}_{cylinder}*rho*(rho**2*cos(varphi)**2 + z**2), (rho, 0, r), (varphi, 0, 2*pi), (z, -h/2, h/2)))"
      ]
     },
     "execution_count": 9,
     "metadata": {},
     "output_type": "execute_result"
    }
   ],
   "source": [
    "Iyy = sm.Eq(\n",
    "  sm.Symbol('I_{yy}'),\n",
    "  sm.Integral(\n",
    "    jacobian_cylindrical* ro_density* (ro**2* sm.cos(fi)**2 + z**2),\n",
    "    (ro, 0, r), (fi, 0, 2* sm.pi), (z, -h/2, h/2)\n",
    "  )\n",
    ")\n",
    "Iyy"
   ]
  },
  {
   "cell_type": "code",
   "execution_count": 10,
   "metadata": {},
   "outputs": [
    {
     "data": {
      "text/latex": [
       "$\\displaystyle I_{yy} = \\int\\limits_{- \\frac{h}{2}}^{\\frac{h}{2}}\\int\\limits_{0}^{2 \\pi}\\int\\limits_{0}^{r} \\frac{m \\rho \\left(\\rho^{2} \\cos^{2}{\\left(\\varphi \\right)} + z^{2}\\right)}{\\pi h r^{2}}\\, d\\rho\\, d\\varphi\\, dz$"
      ],
      "text/plain": [
       "Eq(I_{yy}, Integral(m*rho*(rho**2*cos(varphi)**2 + z**2)/(pi*h*r**2), (rho, 0, r), (varphi, 0, 2*pi), (z, -h/2, h/2)))"
      ]
     },
     "execution_count": 10,
     "metadata": {},
     "output_type": "execute_result"
    }
   ],
   "source": [
    "Iyy.subs(ro_density, cylinder_density.rhs)"
   ]
  },
  {
   "cell_type": "code",
   "execution_count": 11,
   "metadata": {},
   "outputs": [
    {
     "data": {
      "text/latex": [
       "$\\displaystyle I_{yy} = \\frac{h^{2} m}{12} + \\frac{m r^{2}}{4}$"
      ],
      "text/plain": [
       "Eq(I_{yy}, h**2*m/12 + m*r**2/4)"
      ]
     },
     "execution_count": 11,
     "metadata": {},
     "output_type": "execute_result"
    }
   ],
   "source": [
    "Iyy.subs(ro_density, cylinder_density.rhs).doit()"
   ]
  },
  {
   "cell_type": "markdown",
   "metadata": {},
   "source": [
    "### **Rod** rotating around its center  \n",
    "\n",
    "![Moment_of_inertia_rod_center.svg.png](data:image/png;base64,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)\n",
    "\n",
    "Cylinder with $r \\ll l$ rotating about an axis perpendicular to its length $l$ passing through the center.   \n",
    "If its mass is $m$, its density is $\\tilde{\\rho} = \\frac{m}{l}$.\n",
    "\n",
    "Axis $\\hat{z}$ is along $l$ and $r \\ll l \\implies x, y \\simeq 0$    \n",
    "$$\n",
    "I_{xx} = I_{yy} = \\int_{l/2}^{l/2} \\frac{m}{l} \\left(z^2 \\right) dz = \\frac{m}{l} \\frac{z^3}{3}\\bigg\\rvert_{l/2}^{l/2} = \\frac{m l^2}{12} \\quad I_{zz}= 0\n",
    "$$\n"
   ]
  },
  {
   "cell_type": "markdown",
   "metadata": {},
   "source": [
    "### **Rod** rotating from one end   \n",
    "\n",
    "![240px-Moment_of_inertia_rod_end.svg.png](data:image/png;base64,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)\n",
    "\n",
    "The parallel axis theorem allows calculating rotations around axes parallel to those passing through the center of mass by simply adding\n",
    "$$\n",
    "M r^2\n",
    "$$\n",
    "where $M$ is the mass of the system and $r$ is the distance between both axes.  \n",
    "\n",
    "For the rod rotating around one end\n",
    "\n",
    "$$\n",
    "I_{xx} = I_{yy} = I_{xx, \\mathrm{center\\,of\\,mass}} + m \\left(\\frac{l}{2}\\right)^2 =  m l^2 \\left( \\frac{1}{12} + \\frac{1}{4} \\right) =  \\frac{m l^2}{3}\n",
    "$$"
   ]
  },
  {
   "cell_type": "markdown",
   "metadata": {},
   "source": [
    "### **Empty spherical shell**\n",
    "\n",
    "![261px-Spherical_shell_moment_of_inertia.png](data:image/png;base64,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)"
   ]
  },
  {
   "cell_type": "markdown",
   "metadata": {},
   "source": [
    "For any material body whose mass, $m$, we know, we still need to know the volume in which it is distributed. To calculate the volume of a sphere by integration, it is simpler to use spherical coordinates. The radial coordinate $\\rho$ is complemented by the azimuthal angle, in the $x,y$ plane in the cartesian system, and $\\theta$ the polar coordinate that starts from the $\\hat{z}$ axis of the cartesian system. The Jacobian in this system is $\\rho^2 \\sin(\\varphi)$."
   ]
  },
  {
   "cell_type": "code",
   "execution_count": 13,
   "metadata": {},
   "outputs": [
    {
     "data": {
      "text/latex": [
       "$\\displaystyle Volume_{sphere} = \\int\\limits_{0}^{2 \\pi}\\int\\limits_{0}^{\\pi}\\int\\limits_{0}^{r} \\rho^{2} \\sin{\\left(\\theta \\right)}\\, d\\rho\\, d\\theta\\, d\\varphi$"
      ],
      "text/plain": [
       "Eq(Volume_{sphere}, Integral(\\rho**2*sin(theta), (\\rho, 0, r), (theta, 0, pi), (\\varphi, 0, 2*pi)))"
      ]
     },
     "execution_count": 13,
     "metadata": {},
     "output_type": "execute_result"
    }
   ],
   "source": [
    "ro, fi, zeta = sm.symbols(r'\\rho \\varphi theta') # spherical coordinate system\n",
    "jacobian_spherical = ro**2 * sm.sin(zeta)\n",
    "\n",
    "sphere_volume = sm.Eq(\n",
    "  sm.Symbol('Volume_{sphere}'),\n",
    "  sm.Integral(\n",
    "    jacobian_spherical,\n",
    "    (ro, 0, r), (zeta, 0, sm.pi), (fi, 0, 2* sm.pi)\n",
    "    )\n",
    ")\n",
    "sphere_volume"
   ]
  },
  {
   "cell_type": "code",
   "execution_count": 15,
   "metadata": {},
   "outputs": [
    {
     "data": {
      "text/latex": [
       "$\\displaystyle Volume_{sphere} = \\frac{4 \\pi r_{2}^{3}}{3}$"
      ],
      "text/plain": [
       "Eq(Volume_{sphere}, 4*pi*r_2**3/3)"
      ]
     },
     "execution_count": 15,
     "metadata": {},
     "output_type": "execute_result"
    }
   ],
   "source": [
    "exterior_sphere_volume = sphere_volume.subs(r, sm.Symbol('r_2')).doit() # we define the symbol for the radius of the sphere\n",
    "exterior_sphere_volume"
   ]
  },
  {
   "cell_type": "markdown",
   "metadata": {},
   "source": [
    "In this spherical shell $r_1<r_2$."
   ]
  },
  {
   "cell_type": "code",
   "execution_count": 16,
   "metadata": {},
   "outputs": [
    {
     "data": {
      "text/latex": [
       "$\\displaystyle Volume_{shell} = \\frac{4 \\pi \\left(- r_{1}^{3} + r_{2}^{3}\\right)}{3}$"
      ],
      "text/plain": [
       "Eq(Volume_{shell}, 4*pi*(-r_1**3 + r_2**3)/3)"
      ]
     },
     "execution_count": 16,
     "metadata": {},
     "output_type": "execute_result"
    }
   ],
   "source": [
    "shell_volume = sm.Eq(\n",
    "  sm.Symbol('Volume_{shell}'),\n",
    "  exterior_sphere_volume.rhs - sphere_volume.subs(r, sm.Symbol('r_1')).doit().rhs\n",
    ")\n",
    "shell_volume.simplify()"
   ]
  },
  {
   "cell_type": "markdown",
   "metadata": {},
   "source": [
    "The density is"
   ]
  },
  {
   "cell_type": "code",
   "execution_count": 17,
   "metadata": {},
   "outputs": [
    {
     "data": {
      "text/latex": [
       "$\\displaystyle \\tilde{\\rho}_{shell} = \\frac{3 m}{4 \\pi \\left(- r_{1}^{3} + r_{2}^{3}\\right)}$"
      ],
      "text/plain": [
       "Eq(\\tilde{\\rho}_{shell}, 3*m/(4*pi*(-r_1**3 + r_2**3)))"
      ]
     },
     "execution_count": 17,
     "metadata": {},
     "output_type": "execute_result"
    }
   ],
   "source": [
    "m = sm.Symbol('m') # we define the symbol for the mass\n",
    "shell_density = sm.Eq(\n",
    "  sm.Symbol(r'\\tilde{\\rho}_{shell}'),\n",
    "  m/ shell_volume.rhs.doit().simplify()\n",
    ")\n",
    "shell_density"
   ]
  },
  {
   "cell_type": "markdown",
   "metadata": {},
   "source": [
    "Due to its symmetry, the spherical shell has the same moment of inertia about the $x$ and $y$ axes, so we will only calculate the moment of inertia about the $z$ axis.\n",
    "\n",
    "For this, we recall that $x^2 + y^2 = \\rho^2 (\\cos^2{\\varphi} + \\sin^2{\\varphi}) = \\rho^2$\n"
   ]
  },
  {
   "cell_type": "code",
   "execution_count": 18,
   "metadata": {},
   "outputs": [
    {
     "data": {
      "text/latex": [
       "$\\displaystyle I_{zz} = \\int\\limits_{0}^{2 \\pi}\\int\\limits_{0}^{\\pi}\\int\\limits_{r_{1}}^{r_{2}} \\rho^{4} \\tilde{\\rho}_{shell} \\sin{\\left(\\theta \\right)}\\, d\\rho\\, d\\theta\\, d\\varphi$"
      ],
      "text/plain": [
       "Eq(I_{zz}, Integral(\\rho**4*\\tilde{\\rho}_{shell}*sin(theta), (\\rho, r_1, r_2), (theta, 0, pi), (\\varphi, 0, 2*pi)))"
      ]
     },
     "execution_count": 18,
     "metadata": {},
     "output_type": "execute_result"
    }
   ],
   "source": [
    "r1, r2 = sm.symbols('r_1 r_2') # we define the symbols for the radii\n",
    "Izz = sm.Eq(\n",
    "  sm.Symbol('I_{zz}'),\n",
    "  sm.Integral(\n",
    "    jacobian_spherical * shell_density.lhs* ro**2,\n",
    "    (ro, r1, r2), (zeta, 0, sm.pi), (fi, 0, 2* sm.pi)\n",
    "  )\n",
    ")\n",
    "Izz"
   ]
  },
  {
   "cell_type": "code",
   "execution_count": 19,
   "metadata": {},
   "outputs": [
    {
     "data": {
      "text/latex": [
       "$\\displaystyle I_{zz} = \\frac{4 \\pi \\tilde{\\rho}_{shell} \\left(- r_{1}^{5} + r_{2}^{5}\\right)}{5}$"
      ],
      "text/plain": [
       "Eq(I_{zz}, 4*pi*\\tilde{\\rho}_{shell}*(-r_1**5 + r_2**5)/5)"
      ]
     },
     "execution_count": 19,
     "metadata": {},
     "output_type": "execute_result"
    }
   ],
   "source": [
    "Izz.doit().simplify()"
   ]
  },
  {
   "cell_type": "code",
   "execution_count": 20,
   "metadata": {},
   "outputs": [
    {
     "data": {
      "text/latex": [
       "$\\displaystyle I_{zz} = \\frac{3 m \\left(r_{1}^{5} - r_{2}^{5}\\right)}{5 \\left(r_{1}^{3} - r_{2}^{3}\\right)}$"
      ],
      "text/plain": [
       "Eq(I_{zz}, 3*m*(r_1**5 - r_2**5)/(5*(r_1**3 - r_2**3)))"
      ]
     },
     "execution_count": 20,
     "metadata": {},
     "output_type": "execute_result"
    }
   ],
   "source": [
    "Izz.doit().subs(shell_density.lhs, shell_density.rhs).simplify()"
   ]
  }
 ],
 "metadata": {
  "kernelspec": {
   "display_name": "utn",
   "language": "python",
   "name": "python3"
  },
  "language_info": {
   "codemirror_mode": {
    "name": "ipython",
    "version": 3
   },
   "file_extension": ".py",
   "mimetype": "text/x-python",
   "name": "python",
   "nbconvert_exporter": "python",
   "pygments_lexer": "ipython3",
   "version": "3.10.12"
  }
 },
 "nbformat": 4,
 "nbformat_minor": 4
}
